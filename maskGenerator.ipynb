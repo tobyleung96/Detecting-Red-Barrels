{
 "metadata": {
  "language_info": {
   "codemirror_mode": {
    "name": "ipython",
    "version": 3
   },
   "file_extension": ".py",
   "mimetype": "text/x-python",
   "name": "python",
   "nbconvert_exporter": "python",
   "pygments_lexer": "ipython3",
   "version": "3.8.3-final"
  },
  "orig_nbformat": 2,
  "kernelspec": {
   "name": "python3",
   "display_name": "Python 3.8.3 64-bit ('Citadel': conda)",
   "metadata": {
    "interpreter": {
     "hash": "844c3bfd31d2f0ed64a3e852d158656216ff6cfcb1c607d51d913b1c70e40404"
    }
   }
  }
 },
 "nbformat": 4,
 "nbformat_minor": 2,
 "cells": [
  {
   "cell_type": "code",
   "execution_count": 1,
   "metadata": {},
   "outputs": [],
   "source": [
    "%matplotlib qt\n",
    "\n",
    "from roipoly import RoiPoly\n",
    "from matplotlib import pyplot as plt\n",
    "import cv2\n",
    "from skimage import data, util\n",
    "from skimage.measure import label, regionprops\n",
    "import numpy as np\n",
    "from PIL import Image\n",
    "import math\n",
    "from matplotlib import patches as mpatches"
   ]
  },
  {
   "source": [
    "# Generating Masks and HSV Points"
   ],
   "cell_type": "markdown",
   "metadata": {}
  },
  {
   "cell_type": "code",
   "execution_count": 2,
   "metadata": {},
   "outputs": [],
   "source": [
    "masks = np.zeros((50,900,1200))\n",
    "hsvPoints = np.array([])"
   ]
  },
  {
   "source": [
    "### 2_3.1.png"
   ],
   "cell_type": "markdown",
   "metadata": {}
  },
  {
   "cell_type": "code",
   "execution_count": 3,
   "metadata": {},
   "outputs": [],
   "source": [
    "# draw mask\n",
    "image_2_3_1 = cv2.imread('ECE5242Proj1-train/2_3.1.png', 0)\n",
    "image_2_3_1_bgr = cv2.imread('ECE5242Proj1-train/2_3.1.png', 1)\n",
    "plt.imshow(image_2_3_1, cmap = \"gray\")\n",
    "roi_2_3_1 = RoiPoly(color='r')"
   ]
  },
  {
   "cell_type": "code",
   "execution_count": 5,
   "metadata": {},
   "outputs": [
    {
     "output_type": "execute_result",
     "data": {
      "text/plain": [
       "<matplotlib.image.AxesImage at 0x7fd01d49ea30>"
      ]
     },
     "metadata": {},
     "execution_count": 5
    }
   ],
   "source": [
    "# assign mask\n",
    "mask_2_3_1 = roi_2_3_1.get_mask(image_2_3_1)\n",
    "plt.imshow(mask_2_3_1)"
   ]
  },
  {
   "cell_type": "code",
   "execution_count": 6,
   "metadata": {},
   "outputs": [],
   "source": [
    "# take just selected HSV pixels\n",
    "image_2_3_1_rgb = cv2.cvtColor(image_2_3_1_bgr, cv2.COLOR_BGR2RGB)\n",
    "image_2_3_1_hsv = cv2.cvtColor(image_2_3_1_bgr, cv2.COLOR_BGR2HSV)\n",
    "image_2_3_1_hsv_points = mask_2_3_1.reshape(900,1200,1) * image_2_3_1_hsv\n",
    "image_2_3_1_hsv_points = image_2_3_1_hsv_points.reshape(900 * 1200,3)\n",
    "image_2_3_1_hsv_points = image_2_3_1_hsv_points[image_2_3_1_hsv_points.sum(axis=(1)) != 0]/255"
   ]
  },
  {
   "cell_type": "code",
   "execution_count": 7,
   "metadata": {},
   "outputs": [],
   "source": [
    "# add new masks and hsvPoints into array\n",
    "masks[0] = mask_2_3_1\n",
    "hsvPoints = image_2_3_1_hsv_points"
   ]
  },
  {
   "source": [
    "### 2.2.png"
   ],
   "cell_type": "markdown",
   "metadata": {}
  },
  {
   "cell_type": "code",
   "execution_count": 8,
   "metadata": {},
   "outputs": [],
   "source": [
    "# draw mask\n",
    "image_2_2 = cv2.imread('ECE5242Proj1-train/2.2.png', 0)\n",
    "image_2_2_bgr = cv2.imread('ECE5242Proj1-train/2.2.png', 1)\n",
    "plt.imshow(image_2_2, cmap = \"gray\")\n",
    "roi_2_2 = RoiPoly(color='r')"
   ]
  },
  {
   "cell_type": "code",
   "execution_count": 9,
   "metadata": {},
   "outputs": [],
   "source": [
    "# assign & show mask\n",
    "mask_2_2 = roi_2_2.get_mask(image_2_2)"
   ]
  },
  {
   "cell_type": "code",
   "execution_count": 10,
   "metadata": {},
   "outputs": [],
   "source": [
    "# take just selected HSV pixels\n",
    "image_2_2_rgb = cv2.cvtColor(image_2_2_bgr, cv2.COLOR_BGR2RGB)\n",
    "image_2_2_hsv = cv2.cvtColor(image_2_2_bgr, cv2.COLOR_BGR2HSV)\n",
    "image_2_2_hsv_points = mask_2_2.reshape(900,1200,1) * image_2_2_hsv\n",
    "image_2_2_hsv_points = image_2_2_hsv_points.reshape(900 * 1200,3)\n",
    "image_2_2_hsv_points = image_2_2_hsv_points[image_2_2_hsv_points.sum(axis=(1)) != 0]/255"
   ]
  },
  {
   "cell_type": "code",
   "execution_count": 11,
   "metadata": {},
   "outputs": [],
   "source": [
    "# add new masks and hsvPoints into array\n",
    "masks[1] = mask_2_2\n",
    "hsvPoints = np.append(hsvPoints, image_2_2_hsv_points, axis = 0)"
   ]
  },
  {
   "source": [
    "### 2.6.png"
   ],
   "cell_type": "markdown",
   "metadata": {}
  },
  {
   "cell_type": "code",
   "execution_count": 24,
   "metadata": {},
   "outputs": [],
   "source": [
    "# draw mask\n",
    "image_2_6 = cv2.imread('ECE5242Proj1-train/2.6.png', 0)\n",
    "image_2_6_bgr = cv2.imread('ECE5242Proj1-train/2.6.png', 1)\n",
    "plt.imshow(image_2_6, cmap = \"gray\")\n",
    "roi_2_6 = RoiPoly(color='r')"
   ]
  },
  {
   "cell_type": "code",
   "execution_count": 25,
   "metadata": {},
   "outputs": [],
   "source": [
    "# assign & show mask\n",
    "mask_2_6 = roi_2_6.get_mask(image_2_6)"
   ]
  },
  {
   "cell_type": "code",
   "execution_count": 26,
   "metadata": {},
   "outputs": [],
   "source": [
    "# take just selected HSV pixels\n",
    "image_2_6_rgb = cv2.cvtColor(image_2_6_bgr, cv2.COLOR_BGR2RGB)\n",
    "image_2_6_hsv = cv2.cvtColor(image_2_6_bgr, cv2.COLOR_BGR2HSV)\n",
    "image_2_6_hsv_points = mask_2_6.reshape(900,1200,1) * image_2_6_hsv\n",
    "image_2_6_hsv_points = image_2_6_hsv_points.reshape(900 * 1200,3)\n",
    "image_2_6_hsv_points = image_2_6_hsv_points[image_2_6_hsv_points.sum(axis=(1)) != 0]/255"
   ]
  },
  {
   "cell_type": "code",
   "execution_count": 27,
   "metadata": {},
   "outputs": [],
   "source": [
    "# add new masks and hsvPoints into array\n",
    "masks[2] = mask_2_6\n",
    "hsvPoints = np.append(hsvPoints, image_2_6_hsv_points, axis = 0)"
   ]
  },
  {
   "source": [
    "### 3.1.png"
   ],
   "cell_type": "markdown",
   "metadata": {}
  },
  {
   "cell_type": "code",
   "execution_count": 28,
   "metadata": {},
   "outputs": [],
   "source": [
    "# draw mask\n",
    "image_3_1 = cv2.imread('ECE5242Proj1-train/3.1.png', 0)\n",
    "image_3_1_bgr = cv2.imread('ECE5242Proj1-train/3.1.png', 1)\n",
    "plt.imshow(image_3_1, cmap = \"gray\")\n",
    "roi_3_1 = RoiPoly(color='r')"
   ]
  },
  {
   "cell_type": "code",
   "execution_count": 29,
   "metadata": {},
   "outputs": [],
   "source": [
    "# assign & show mask\n",
    "mask_3_1 = roi_3_1.get_mask(image_3_1)"
   ]
  },
  {
   "cell_type": "code",
   "execution_count": 30,
   "metadata": {},
   "outputs": [],
   "source": [
    "# take just selected HSV pixels\n",
    "image_3_1_rgb = cv2.cvtColor(image_3_1_bgr, cv2.COLOR_BGR2RGB)\n",
    "image_3_1_hsv = cv2.cvtColor(image_3_1_bgr, cv2.COLOR_BGR2HSV)\n",
    "image_3_1_hsv_points = mask_3_1.reshape(900,1200,1) * image_3_1_hsv\n",
    "image_3_1_hsv_points = image_3_1_hsv_points.reshape(900 * 1200,3)\n",
    "image_3_1_hsv_points = image_3_1_hsv_points[image_3_1_hsv_points.sum(axis=(1)) != 0]/255"
   ]
  },
  {
   "cell_type": "code",
   "execution_count": 31,
   "metadata": {},
   "outputs": [],
   "source": [
    "# add new masks and hsvPoints into array\n",
    "masks[3] = mask_3_1\n",
    "hsvPoints = np.append(hsvPoints, image_3_1_hsv_points, axis = 0)"
   ]
  },
  {
   "source": [
    "### 3.2.png"
   ],
   "cell_type": "markdown",
   "metadata": {}
  },
  {
   "cell_type": "code",
   "execution_count": 32,
   "metadata": {},
   "outputs": [],
   "source": [
    "# draw mask\n",
    "image_3_2 = cv2.imread('ECE5242Proj1-train/3.2.png', 0)\n",
    "image_3_2_bgr = cv2.imread('ECE5242Proj1-train/3.2.png', 1)\n",
    "plt.imshow(image_3_2, cmap = \"gray\")\n",
    "roi_3_2 = RoiPoly(color='r')"
   ]
  },
  {
   "cell_type": "code",
   "execution_count": 33,
   "metadata": {},
   "outputs": [],
   "source": [
    "# assign & show mask\n",
    "mask_3_2 = roi_3_2.get_mask(image_3_2)"
   ]
  },
  {
   "cell_type": "code",
   "execution_count": 34,
   "metadata": {},
   "outputs": [],
   "source": [
    "# take just selected HSV pixels\n",
    "image_3_2_rgb = cv2.cvtColor(image_3_2_bgr, cv2.COLOR_BGR2RGB)\n",
    "image_3_2_hsv = cv2.cvtColor(image_3_2_bgr, cv2.COLOR_BGR2HSV)\n",
    "image_3_2_hsv_points = mask_3_2.reshape(900,1200,1) * image_3_2_hsv\n",
    "image_3_2_hsv_points = image_3_2_hsv_points.reshape(900 * 1200,3)\n",
    "image_3_2_hsv_points = image_3_2_hsv_points[image_3_2_hsv_points.sum(axis=(1)) != 0]/255"
   ]
  },
  {
   "cell_type": "code",
   "execution_count": 35,
   "metadata": {},
   "outputs": [],
   "source": [
    "# add new masks and hsvPoints into array\n",
    "masks[4] = mask_3_2\n",
    "hsvPoints = np.append(hsvPoints, image_3_2_hsv_points, axis = 0)"
   ]
  },
  {
   "source": [
    "### 3.4.png"
   ],
   "cell_type": "markdown",
   "metadata": {}
  },
  {
   "cell_type": "code",
   "execution_count": 36,
   "metadata": {},
   "outputs": [],
   "source": [
    "# draw mask\n",
    "image_3_4 = cv2.imread('ECE5242Proj1-train/3.4.png', 0)\n",
    "image_3_4_bgr = cv2.imread('ECE5242Proj1-train/3.4.png', 1)\n",
    "plt.imshow(image_3_4, cmap = \"gray\")\n",
    "roi_3_4 = RoiPoly(color='r')"
   ]
  },
  {
   "cell_type": "code",
   "execution_count": 37,
   "metadata": {},
   "outputs": [],
   "source": [
    "# assign & show mask\n",
    "mask_3_4 = roi_3_4.get_mask(image_3_4)"
   ]
  },
  {
   "cell_type": "code",
   "execution_count": 38,
   "metadata": {},
   "outputs": [],
   "source": [
    "# take just selected HSV pixels\n",
    "image_3_4_rgb = cv2.cvtColor(image_3_4_bgr, cv2.COLOR_BGR2RGB)\n",
    "image_3_4_hsv = cv2.cvtColor(image_3_4_bgr, cv2.COLOR_BGR2HSV)\n",
    "image_3_4_hsv_points = mask_3_4.reshape(900,1200,1) * image_3_4_hsv\n",
    "image_3_4_hsv_points = image_3_4_hsv_points.reshape(900 * 1200,3)\n",
    "image_3_4_hsv_points = image_3_4_hsv_points[image_3_4_hsv_points.sum(axis=(1)) != 0]/255"
   ]
  },
  {
   "cell_type": "code",
   "execution_count": 39,
   "metadata": {},
   "outputs": [],
   "source": [
    "# add new masks and hsvPoints into array\n",
    "masks[5] = mask_3_4\n",
    "hsvPoints = np.append(hsvPoints, image_3_4_hsv_points, axis = 0)"
   ]
  },
  {
   "source": [
    "### 3.8.png"
   ],
   "cell_type": "markdown",
   "metadata": {}
  },
  {
   "cell_type": "code",
   "execution_count": 40,
   "metadata": {},
   "outputs": [],
   "source": [
    "# draw mask\n",
    "image_3_8 = cv2.imread('ECE5242Proj1-train/3.8.png', 0)\n",
    "image_3_8_bgr = cv2.imread('ECE5242Proj1-train/3.8.png', 1)\n",
    "plt.imshow(image_3_8, cmap = \"gray\")\n",
    "roi_3_8 = RoiPoly(color='r')"
   ]
  },
  {
   "cell_type": "code",
   "execution_count": 41,
   "metadata": {},
   "outputs": [],
   "source": [
    "# assign & show mask\n",
    "mask_3_8 = roi_3_8.get_mask(image_3_8)"
   ]
  },
  {
   "cell_type": "code",
   "execution_count": 42,
   "metadata": {},
   "outputs": [],
   "source": [
    "# take just selected HSV pixels\n",
    "image_3_8_rgb = cv2.cvtColor(image_3_8_bgr, cv2.COLOR_BGR2RGB)\n",
    "image_3_8_hsv = cv2.cvtColor(image_3_8_bgr, cv2.COLOR_BGR2HSV)\n",
    "image_3_8_hsv_points = mask_3_8.reshape(900,1200,1) * image_3_8_hsv\n",
    "image_3_8_hsv_points = image_3_8_hsv_points.reshape(900 * 1200,3)\n",
    "image_3_8_hsv_points = image_3_8_hsv_points[image_3_8_hsv_points.sum(axis=(1)) != 0]/255"
   ]
  },
  {
   "cell_type": "code",
   "execution_count": 43,
   "metadata": {},
   "outputs": [],
   "source": [
    "# add new masks and hsvPoints into array\n",
    "masks[6] = mask_3_8\n",
    "hsvPoints = np.append(hsvPoints, image_3_8_hsv_points, axis = 0)"
   ]
  },
  {
   "source": [
    "### 3.10.png"
   ],
   "cell_type": "markdown",
   "metadata": {}
  },
  {
   "cell_type": "code",
   "execution_count": 44,
   "metadata": {},
   "outputs": [],
   "source": [
    "# draw mask\n",
    "image_3_10 = cv2.imread('ECE5242Proj1-train/3.10.png', 0)\n",
    "image_3_10_bgr = cv2.imread('ECE5242Proj1-train/3.10.png', 1)\n",
    "plt.imshow(image_3_10, cmap = \"gray\")\n",
    "roi_3_10 = RoiPoly(color='r')"
   ]
  },
  {
   "cell_type": "code",
   "execution_count": 45,
   "metadata": {},
   "outputs": [],
   "source": [
    "# assign & show mask\n",
    "mask_3_10 = roi_3_10.get_mask(image_3_10)"
   ]
  },
  {
   "cell_type": "code",
   "execution_count": 46,
   "metadata": {},
   "outputs": [],
   "source": [
    "# take just selected HSV pixels\n",
    "image_3_10_rgb = cv2.cvtColor(image_3_10_bgr, cv2.COLOR_BGR2RGB)\n",
    "image_3_10_hsv = cv2.cvtColor(image_3_10_bgr, cv2.COLOR_BGR2HSV)\n",
    "image_3_10_hsv_points = mask_3_10.reshape(900,1200,1) * image_3_10_hsv\n",
    "image_3_10_hsv_points = image_3_10_hsv_points.reshape(900 * 1200,3)\n",
    "image_3_10_hsv_points = image_3_10_hsv_points[image_3_10_hsv_points.sum(axis=(1)) != 0]/255"
   ]
  },
  {
   "cell_type": "code",
   "execution_count": 47,
   "metadata": {},
   "outputs": [],
   "source": [
    "# add new masks and hsvPoints into array\n",
    "masks[7] = mask_3_10\n",
    "hsvPoints = np.append(hsvPoints, image_3_10_hsv_points, axis = 0)"
   ]
  },
  {
   "source": [
    "### 4.1.png"
   ],
   "cell_type": "markdown",
   "metadata": {}
  },
  {
   "cell_type": "code",
   "execution_count": 48,
   "metadata": {},
   "outputs": [],
   "source": [
    "# draw mask\n",
    "image_4_1 = cv2.imread('ECE5242Proj1-train/4.1.png', 0)\n",
    "image_4_1_bgr = cv2.imread('ECE5242Proj1-train/4.1.png', 1)\n",
    "plt.imshow(image_4_1, cmap = \"gray\")\n",
    "roi_4_1 = RoiPoly(color='r')"
   ]
  },
  {
   "cell_type": "code",
   "execution_count": 49,
   "metadata": {},
   "outputs": [],
   "source": [
    "# assign & show mask\n",
    "mask_4_1 = roi_4_1.get_mask(image_4_1)"
   ]
  },
  {
   "cell_type": "code",
   "execution_count": 50,
   "metadata": {},
   "outputs": [],
   "source": [
    "# take just selected HSV pixels\n",
    "image_4_1_rgb = cv2.cvtColor(image_4_1_bgr, cv2.COLOR_BGR2RGB)\n",
    "image_4_1_hsv = cv2.cvtColor(image_4_1_bgr, cv2.COLOR_BGR2HSV)\n",
    "image_4_1_hsv_points = mask_4_1.reshape(900,1200,1) * image_4_1_hsv\n",
    "image_4_1_hsv_points = image_4_1_hsv_points.reshape(900 * 1200,3)\n",
    "image_4_1_hsv_points = image_4_1_hsv_points[image_4_1_hsv_points.sum(axis=(1)) != 0]/255"
   ]
  },
  {
   "cell_type": "code",
   "execution_count": 51,
   "metadata": {},
   "outputs": [],
   "source": [
    "# add new masks and hsvPoints into array\n",
    "masks[8] = mask_4_1\n",
    "hsvPoints = np.append(hsvPoints, image_4_1_hsv_points, axis = 0)"
   ]
  },
  {
   "source": [
    "### 4.2.png"
   ],
   "cell_type": "markdown",
   "metadata": {}
  },
  {
   "cell_type": "code",
   "execution_count": 52,
   "metadata": {},
   "outputs": [],
   "source": [
    "# draw mask\n",
    "image_4_2 = cv2.imread('ECE5242Proj1-train/4.2.png', 0)\n",
    "image_4_2_bgr = cv2.imread('ECE5242Proj1-train/4.2.png', 1)\n",
    "plt.imshow(image_4_2, cmap = \"gray\")\n",
    "roi_4_2 = RoiPoly(color='r')"
   ]
  },
  {
   "cell_type": "code",
   "execution_count": 53,
   "metadata": {},
   "outputs": [],
   "source": [
    "# assign & show mask\n",
    "mask_4_2 = roi_4_2.get_mask(image_4_2)"
   ]
  },
  {
   "cell_type": "code",
   "execution_count": 54,
   "metadata": {},
   "outputs": [],
   "source": [
    "# take just selected HSV pixels\n",
    "image_4_2_rgb = cv2.cvtColor(image_4_2_bgr, cv2.COLOR_BGR2RGB)\n",
    "image_4_2_hsv = cv2.cvtColor(image_4_2_bgr, cv2.COLOR_BGR2HSV)\n",
    "image_4_2_hsv_points = mask_4_2.reshape(900,1200,1) * image_4_2_hsv\n",
    "image_4_2_hsv_points = image_4_2_hsv_points.reshape(900 * 1200,3)\n",
    "image_4_2_hsv_points = image_4_2_hsv_points[image_4_2_hsv_points.sum(axis=(1)) != 0]/255"
   ]
  },
  {
   "cell_type": "code",
   "execution_count": 55,
   "metadata": {},
   "outputs": [],
   "source": [
    "# add new masks and hsvPoints into array\n",
    "masks[9] = mask_4_2\n",
    "hsvPoints = np.append(hsvPoints, image_4_2_hsv_points, axis = 0)"
   ]
  },
  {
   "source": [
    "### 4.3.png"
   ],
   "cell_type": "markdown",
   "metadata": {}
  },
  {
   "cell_type": "code",
   "execution_count": 56,
   "metadata": {},
   "outputs": [],
   "source": [
    "# draw mask\n",
    "image_4_3 = cv2.imread('ECE5242Proj1-train/4.3.png', 0)\n",
    "image_4_3_bgr = cv2.imread('ECE5242Proj1-train/4.3.png', 1)\n",
    "plt.imshow(image_4_3, cmap = \"gray\")\n",
    "roi_4_3 = RoiPoly(color='r')"
   ]
  },
  {
   "cell_type": "code",
   "execution_count": 57,
   "metadata": {},
   "outputs": [],
   "source": [
    "# assign & show mask\n",
    "mask_4_3 = roi_4_3.get_mask(image_4_3)"
   ]
  },
  {
   "cell_type": "code",
   "execution_count": 58,
   "metadata": {},
   "outputs": [],
   "source": [
    "# take just selected HSV pixels\n",
    "image_4_3_rgb = cv2.cvtColor(image_4_3_bgr, cv2.COLOR_BGR2RGB)\n",
    "image_4_3_hsv = cv2.cvtColor(image_4_3_bgr, cv2.COLOR_BGR2HSV)\n",
    "image_4_3_hsv_points = mask_4_3.reshape(900,1200,1) * image_4_3_hsv\n",
    "image_4_3_hsv_points = image_4_3_hsv_points.reshape(900 * 1200,3)\n",
    "image_4_3_hsv_points = image_4_3_hsv_points[image_4_3_hsv_points.sum(axis=(1)) != 0]/255"
   ]
  },
  {
   "cell_type": "code",
   "execution_count": 59,
   "metadata": {},
   "outputs": [],
   "source": [
    "# add new masks and hsvPoints into array\n",
    "masks[10] = mask_4_3\n",
    "hsvPoints = np.append(hsvPoints, image_4_3_hsv_points, axis = 0)"
   ]
  },
  {
   "source": [
    "### 4.4.png"
   ],
   "cell_type": "markdown",
   "metadata": {}
  },
  {
   "cell_type": "code",
   "execution_count": 60,
   "metadata": {},
   "outputs": [],
   "source": [
    "# draw mask\n",
    "image_4_4 = cv2.imread('ECE5242Proj1-train/4.4.png', 0)\n",
    "image_4_4_bgr = cv2.imread('ECE5242Proj1-train/4.4.png', 1)\n",
    "plt.imshow(image_4_4, cmap = \"gray\")\n",
    "roi_4_4 = RoiPoly(color='r')"
   ]
  },
  {
   "cell_type": "code",
   "execution_count": 61,
   "metadata": {},
   "outputs": [],
   "source": [
    "# assign & show mask\n",
    "mask_4_4 = roi_4_4.get_mask(image_4_4)"
   ]
  },
  {
   "cell_type": "code",
   "execution_count": 62,
   "metadata": {},
   "outputs": [],
   "source": [
    "# take just selected HSV pixels\n",
    "image_4_4_rgb = cv2.cvtColor(image_4_4_bgr, cv2.COLOR_BGR2RGB)\n",
    "image_4_4_hsv = cv2.cvtColor(image_4_4_bgr, cv2.COLOR_BGR2HSV)\n",
    "image_4_4_hsv_points = mask_4_4.reshape(900,1200,1) * image_4_4_hsv\n",
    "image_4_4_hsv_points = image_4_4_hsv_points.reshape(900 * 1200,3)\n",
    "image_4_4_hsv_points = image_4_4_hsv_points[image_4_4_hsv_points.sum(axis=(1)) != 0]/255"
   ]
  },
  {
   "cell_type": "code",
   "execution_count": 63,
   "metadata": {},
   "outputs": [],
   "source": [
    "# add new masks and hsvPoints into array\n",
    "masks[11] = mask_4_4\n",
    "hsvPoints = np.append(hsvPoints, image_4_4_hsv_points, axis = 0)"
   ]
  },
  {
   "source": [
    "### 4.5.png"
   ],
   "cell_type": "markdown",
   "metadata": {}
  },
  {
   "cell_type": "code",
   "execution_count": 64,
   "metadata": {},
   "outputs": [],
   "source": [
    "# draw mask\n",
    "image_4_5 = cv2.imread('ECE5242Proj1-train/4.5.png', 0)\n",
    "image_4_5_bgr = cv2.imread('ECE5242Proj1-train/4.5.png', 1)\n",
    "plt.imshow(image_4_5, cmap = \"gray\")\n",
    "roi_4_5 = RoiPoly(color='r')"
   ]
  },
  {
   "cell_type": "code",
   "execution_count": 65,
   "metadata": {},
   "outputs": [],
   "source": [
    "# assign & show mask\n",
    "mask_4_5 = roi_4_5.get_mask(image_4_5)"
   ]
  },
  {
   "cell_type": "code",
   "execution_count": 66,
   "metadata": {},
   "outputs": [],
   "source": [
    "# take just selected HSV pixels\n",
    "image_4_5_rgb = cv2.cvtColor(image_4_5_bgr, cv2.COLOR_BGR2RGB)\n",
    "image_4_5_hsv = cv2.cvtColor(image_4_5_bgr, cv2.COLOR_BGR2HSV)\n",
    "image_4_5_hsv_points = mask_4_5.reshape(900,1200,1) * image_4_5_hsv\n",
    "image_4_5_hsv_points = image_4_5_hsv_points.reshape(900 * 1200,3)\n",
    "image_4_5_hsv_points = image_4_5_hsv_points[image_4_5_hsv_points.sum(axis=(1)) != 0]/255"
   ]
  },
  {
   "cell_type": "code",
   "execution_count": 67,
   "metadata": {},
   "outputs": [],
   "source": [
    "# add new masks and hsvPoints into array\n",
    "masks[11] = mask_4_5\n",
    "hsvPoints = np.append(hsvPoints, image_4_5_hsv_points, axis = 0)"
   ]
  },
  {
   "source": [
    "### 4.6.png"
   ],
   "cell_type": "markdown",
   "metadata": {}
  },
  {
   "cell_type": "code",
   "execution_count": 68,
   "metadata": {},
   "outputs": [],
   "source": [
    "# draw mask\n",
    "image_4_6 = cv2.imread('ECE5242Proj1-train/4.6.png', 0)\n",
    "image_4_6_bgr = cv2.imread('ECE5242Proj1-train/4.6.png', 1)\n",
    "plt.imshow(image_4_6, cmap = \"gray\")\n",
    "roi_4_6 = RoiPoly(color='r')"
   ]
  },
  {
   "cell_type": "code",
   "execution_count": 69,
   "metadata": {},
   "outputs": [],
   "source": [
    "# assign & show mask\n",
    "mask_4_6 = roi_4_6.get_mask(image_4_6)"
   ]
  },
  {
   "cell_type": "code",
   "execution_count": 70,
   "metadata": {},
   "outputs": [],
   "source": [
    "# take just selected HSV pixels\n",
    "image_4_6_rgb = cv2.cvtColor(image_4_6_bgr, cv2.COLOR_BGR2RGB)\n",
    "image_4_6_hsv = cv2.cvtColor(image_4_6_bgr, cv2.COLOR_BGR2HSV)\n",
    "image_4_6_hsv_points = mask_4_6.reshape(900,1200,1) * image_4_6_hsv\n",
    "image_4_6_hsv_points = image_4_6_hsv_points.reshape(900 * 1200,3)\n",
    "image_4_6_hsv_points = image_4_6_hsv_points[image_4_6_hsv_points.sum(axis=(1)) != 0]/255"
   ]
  },
  {
   "cell_type": "code",
   "execution_count": 71,
   "metadata": {},
   "outputs": [],
   "source": [
    "# add new masks and hsvPoints into array\n",
    "masks[12] = mask_4_6\n",
    "hsvPoints = np.append(hsvPoints, image_4_6_hsv_points, axis = 0)"
   ]
  },
  {
   "source": [
    "### 4.7.png"
   ],
   "cell_type": "markdown",
   "metadata": {}
  },
  {
   "cell_type": "code",
   "execution_count": 72,
   "metadata": {},
   "outputs": [],
   "source": [
    "# draw mask\n",
    "image_4_7 = cv2.imread('ECE5242Proj1-train/4.7.png', 0)\n",
    "image_4_7_bgr = cv2.imread('ECE5242Proj1-train/4.7.png', 1)\n",
    "plt.imshow(image_4_7, cmap = \"gray\")\n",
    "roi_4_7 = RoiPoly(color='r')"
   ]
  },
  {
   "cell_type": "code",
   "execution_count": 73,
   "metadata": {},
   "outputs": [],
   "source": [
    "# assign & show mask\n",
    "mask_4_7 = roi_4_7.get_mask(image_4_7)"
   ]
  },
  {
   "cell_type": "code",
   "execution_count": 74,
   "metadata": {},
   "outputs": [],
   "source": [
    "# take just selected HSV pixels\n",
    "image_4_7_rgb = cv2.cvtColor(image_4_7_bgr, cv2.COLOR_BGR2RGB)\n",
    "image_4_7_hsv = cv2.cvtColor(image_4_7_bgr, cv2.COLOR_BGR2HSV)\n",
    "image_4_7_hsv_points = mask_4_7.reshape(900,1200,1) * image_4_7_hsv\n",
    "image_4_7_hsv_points = image_4_7_hsv_points.reshape(900 * 1200,3)\n",
    "image_4_7_hsv_points = image_4_7_hsv_points[image_4_7_hsv_points.sum(axis=(1)) != 0]/255"
   ]
  },
  {
   "cell_type": "code",
   "execution_count": 75,
   "metadata": {},
   "outputs": [],
   "source": [
    "# add new masks and hsvPoints into array\n",
    "masks[13] = mask_4_7\n",
    "hsvPoints = np.append(hsvPoints, image_4_7_hsv_points, axis = 0)"
   ]
  },
  {
   "source": [
    "### 4.8.png"
   ],
   "cell_type": "markdown",
   "metadata": {}
  },
  {
   "cell_type": "code",
   "execution_count": 76,
   "metadata": {},
   "outputs": [],
   "source": [
    "# draw mask\n",
    "image_4_8 = cv2.imread('ECE5242Proj1-train/4.8.png', 0)\n",
    "image_4_8_bgr = cv2.imread('ECE5242Proj1-train/4.8.png', 1)\n",
    "plt.imshow(image_4_8, cmap = \"gray\")\n",
    "roi_4_8 = RoiPoly(color='r')"
   ]
  },
  {
   "cell_type": "code",
   "execution_count": 77,
   "metadata": {},
   "outputs": [],
   "source": [
    "# assign & show mask\n",
    "mask_4_8 = roi_4_8.get_mask(image_4_8)"
   ]
  },
  {
   "cell_type": "code",
   "execution_count": 78,
   "metadata": {},
   "outputs": [],
   "source": [
    "# take just selected HSV pixels\n",
    "image_4_8_rgb = cv2.cvtColor(image_4_8_bgr, cv2.COLOR_BGR2RGB)\n",
    "image_4_8_hsv = cv2.cvtColor(image_4_8_bgr, cv2.COLOR_BGR2HSV)\n",
    "image_4_8_hsv_points = mask_4_8.reshape(900,1200,1) * image_4_8_hsv\n",
    "image_4_8_hsv_points = image_4_8_hsv_points.reshape(900 * 1200,3)\n",
    "image_4_8_hsv_points = image_4_8_hsv_points[image_4_8_hsv_points.sum(axis=(1)) != 0]/255"
   ]
  },
  {
   "cell_type": "code",
   "execution_count": 79,
   "metadata": {},
   "outputs": [],
   "source": [
    "# add new masks and hsvPoints into array\n",
    "masks[14] = mask_4_8\n",
    "hsvPoints = np.append(hsvPoints, image_4_8_hsv_points, axis = 0)"
   ]
  },
  {
   "source": [
    "### 5.1.png"
   ],
   "cell_type": "markdown",
   "metadata": {}
  },
  {
   "cell_type": "code",
   "execution_count": 80,
   "metadata": {},
   "outputs": [],
   "source": [
    "# draw mask\n",
    "image_5_1 = cv2.imread('ECE5242Proj1-train/5.1.png', 0)\n",
    "image_5_1_bgr = cv2.imread('ECE5242Proj1-train/5.1.png', 1)\n",
    "plt.imshow(image_5_1, cmap = \"gray\")\n",
    "roi_5_1 = RoiPoly(color='r')"
   ]
  },
  {
   "cell_type": "code",
   "execution_count": 81,
   "metadata": {},
   "outputs": [],
   "source": [
    "# assign & show mask\n",
    "mask_5_1 = roi_5_1.get_mask(image_5_1)"
   ]
  },
  {
   "cell_type": "code",
   "execution_count": 82,
   "metadata": {},
   "outputs": [],
   "source": [
    "# take just selected HSV pixels\n",
    "image_5_1_rgb = cv2.cvtColor(image_5_1_bgr, cv2.COLOR_BGR2RGB)\n",
    "image_5_1_hsv = cv2.cvtColor(image_5_1_bgr, cv2.COLOR_BGR2HSV)\n",
    "image_5_1_hsv_points = mask_5_1.reshape(900,1200,1) * image_5_1_hsv\n",
    "image_5_1_hsv_points = image_5_1_hsv_points.reshape(900 * 1200,3)\n",
    "image_5_1_hsv_points = image_5_1_hsv_points[image_5_1_hsv_points.sum(axis=(1)) != 0]/255"
   ]
  },
  {
   "cell_type": "code",
   "execution_count": 83,
   "metadata": {},
   "outputs": [],
   "source": [
    "# add new masks and hsvPoints into array\n",
    "masks[15] = mask_5_1\n",
    "hsvPoints = np.append(hsvPoints, image_5_1_hsv_points, axis = 0)"
   ]
  },
  {
   "source": [
    "### 5.2.png"
   ],
   "cell_type": "markdown",
   "metadata": {}
  },
  {
   "cell_type": "code",
   "execution_count": 84,
   "metadata": {},
   "outputs": [],
   "source": [
    "# draw mask\n",
    "image_5_2 = cv2.imread('ECE5242Proj1-train/5.2.png', 0)\n",
    "image_5_2_bgr = cv2.imread('ECE5242Proj1-train/5.2.png', 1)\n",
    "plt.imshow(image_5_2, cmap = \"gray\")\n",
    "roi_5_2 = RoiPoly(color='r')"
   ]
  },
  {
   "cell_type": "code",
   "execution_count": 85,
   "metadata": {},
   "outputs": [],
   "source": [
    "# assign & show mask\n",
    "mask_5_2 = roi_5_2.get_mask(image_5_2)"
   ]
  },
  {
   "cell_type": "code",
   "execution_count": 86,
   "metadata": {},
   "outputs": [],
   "source": [
    "# take just selected HSV pixels\n",
    "image_5_2_rgb = cv2.cvtColor(image_5_2_bgr, cv2.COLOR_BGR2RGB)\n",
    "image_5_2_hsv = cv2.cvtColor(image_5_2_bgr, cv2.COLOR_BGR2HSV)\n",
    "image_5_2_hsv_points = mask_5_2.reshape(900,1200,1) * image_5_2_hsv\n",
    "image_5_2_hsv_points = image_5_2_hsv_points.reshape(900 * 1200,3)\n",
    "image_5_2_hsv_points = image_5_2_hsv_points[image_5_2_hsv_points.sum(axis=(1)) != 0]/255"
   ]
  },
  {
   "cell_type": "code",
   "execution_count": 87,
   "metadata": {},
   "outputs": [],
   "source": [
    "# add new masks and hsvPoints into array\n",
    "masks[16] = mask_5_2\n",
    "hsvPoints = np.append(hsvPoints, image_5_2_hsv_points, axis = 0)"
   ]
  },
  {
   "source": [
    "### 5.3.png"
   ],
   "cell_type": "markdown",
   "metadata": {}
  },
  {
   "cell_type": "code",
   "execution_count": 88,
   "metadata": {},
   "outputs": [],
   "source": [
    "# draw mask\n",
    "image_5_3 = cv2.imread('ECE5242Proj1-train/5.3.png', 0)\n",
    "image_5_3_bgr = cv2.imread('ECE5242Proj1-train/5.3.png', 1)\n",
    "plt.imshow(image_5_3, cmap = \"gray\")\n",
    "roi_5_3 = RoiPoly(color='r')"
   ]
  },
  {
   "cell_type": "code",
   "execution_count": 89,
   "metadata": {},
   "outputs": [],
   "source": [
    "# assign & show mask\n",
    "mask_5_3 = roi_5_3.get_mask(image_5_3)"
   ]
  },
  {
   "cell_type": "code",
   "execution_count": 90,
   "metadata": {},
   "outputs": [],
   "source": [
    "# take just selected HSV pixels\n",
    "image_5_3_rgb = cv2.cvtColor(image_5_3_bgr, cv2.COLOR_BGR2RGB)\n",
    "image_5_3_hsv = cv2.cvtColor(image_5_3_bgr, cv2.COLOR_BGR2HSV)\n",
    "image_5_3_hsv_points = mask_5_3.reshape(900,1200,1) * image_5_3_hsv\n",
    "image_5_3_hsv_points = image_5_3_hsv_points.reshape(900 * 1200,3)\n",
    "image_5_3_hsv_points = image_5_3_hsv_points[image_5_3_hsv_points.sum(axis=(1)) != 0]/255"
   ]
  },
  {
   "cell_type": "code",
   "execution_count": 91,
   "metadata": {},
   "outputs": [],
   "source": [
    "# add new masks and hsvPoints into array\n",
    "masks[17] = mask_5_3\n",
    "hsvPoints = np.append(hsvPoints, image_5_3_hsv_points, axis = 0)"
   ]
  },
  {
   "source": [
    "### 5.4.png"
   ],
   "cell_type": "markdown",
   "metadata": {}
  },
  {
   "cell_type": "code",
   "execution_count": 92,
   "metadata": {},
   "outputs": [],
   "source": [
    "# draw mask\n",
    "image_5_4 = cv2.imread('ECE5242Proj1-train/5.4.png', 0)\n",
    "image_5_4_bgr = cv2.imread('ECE5242Proj1-train/5.4.png', 1)\n",
    "plt.imshow(image_5_4, cmap = \"gray\")\n",
    "roi_5_4 = RoiPoly(color='r')"
   ]
  },
  {
   "cell_type": "code",
   "execution_count": 93,
   "metadata": {},
   "outputs": [],
   "source": [
    "# assign & show mask\n",
    "mask_5_4 = roi_5_4.get_mask(image_5_4)"
   ]
  },
  {
   "cell_type": "code",
   "execution_count": 94,
   "metadata": {},
   "outputs": [],
   "source": [
    "# take just selected HSV pixels\n",
    "image_5_4_rgb = cv2.cvtColor(image_5_4_bgr, cv2.COLOR_BGR2RGB)\n",
    "image_5_4_hsv = cv2.cvtColor(image_5_4_bgr, cv2.COLOR_BGR2HSV)\n",
    "image_5_4_hsv_points = mask_5_4.reshape(900,1200,1) * image_5_4_hsv\n",
    "image_5_4_hsv_points = image_5_4_hsv_points.reshape(900 * 1200,3)\n",
    "image_5_4_hsv_points = image_5_4_hsv_points[image_5_4_hsv_points.sum(axis=(1)) != 0]/255"
   ]
  },
  {
   "cell_type": "code",
   "execution_count": 95,
   "metadata": {},
   "outputs": [],
   "source": [
    "# add new masks and hsvPoints into array\n",
    "masks[18] = mask_5_4\n",
    "hsvPoints = np.append(hsvPoints, image_5_4_hsv_points, axis = 0)"
   ]
  },
  {
   "source": [
    "### 5.5.png"
   ],
   "cell_type": "markdown",
   "metadata": {}
  },
  {
   "cell_type": "code",
   "execution_count": 96,
   "metadata": {},
   "outputs": [],
   "source": [
    "# draw mask\n",
    "image_5_5 = cv2.imread('ECE5242Proj1-train/5.5.png', 0)\n",
    "image_5_5_bgr = cv2.imread('ECE5242Proj1-train/5.5.png', 1)\n",
    "plt.imshow(image_5_5, cmap = \"gray\")\n",
    "roi_5_5 = RoiPoly(color='r')"
   ]
  },
  {
   "cell_type": "code",
   "execution_count": 97,
   "metadata": {},
   "outputs": [],
   "source": [
    "# assign & show mask\n",
    "mask_5_5 = roi_5_5.get_mask(image_5_5)"
   ]
  },
  {
   "cell_type": "code",
   "execution_count": 98,
   "metadata": {},
   "outputs": [],
   "source": [
    "# take just selected HSV pixels\n",
    "image_5_5_rgb = cv2.cvtColor(image_5_5_bgr, cv2.COLOR_BGR2RGB)\n",
    "image_5_5_hsv = cv2.cvtColor(image_5_5_bgr, cv2.COLOR_BGR2HSV)\n",
    "image_5_5_hsv_points = mask_5_5.reshape(900,1200,1) * image_5_5_hsv\n",
    "image_5_5_hsv_points = image_5_5_hsv_points.reshape(900 * 1200,3)\n",
    "image_5_5_hsv_points = image_5_5_hsv_points[image_5_5_hsv_points.sum(axis=(1)) != 0]/255"
   ]
  },
  {
   "cell_type": "code",
   "execution_count": 99,
   "metadata": {},
   "outputs": [],
   "source": [
    "# add new masks and hsvPoints into array\n",
    "masks[19] = mask_5_5\n",
    "hsvPoints = np.append(hsvPoints, image_5_5_hsv_points, axis = 0)"
   ]
  },
  {
   "source": [
    "### 5.6.png"
   ],
   "cell_type": "markdown",
   "metadata": {}
  },
  {
   "cell_type": "code",
   "execution_count": 100,
   "metadata": {},
   "outputs": [],
   "source": [
    "# draw mask\n",
    "image_5_6 = cv2.imread('ECE5242Proj1-train/5.6.png', 0)\n",
    "image_5_6_bgr = cv2.imread('ECE5242Proj1-train/5.6.png', 1)\n",
    "plt.imshow(image_5_6, cmap = \"gray\")\n",
    "roi_5_6 = RoiPoly(color='r')"
   ]
  },
  {
   "cell_type": "code",
   "execution_count": 101,
   "metadata": {},
   "outputs": [],
   "source": [
    "# assign & show mask\n",
    "mask_5_6 = roi_5_6.get_mask(image_5_6)"
   ]
  },
  {
   "cell_type": "code",
   "execution_count": 102,
   "metadata": {},
   "outputs": [],
   "source": [
    "# take just selected HSV pixels\n",
    "image_5_6_rgb = cv2.cvtColor(image_5_6_bgr, cv2.COLOR_BGR2RGB)\n",
    "image_5_6_hsv = cv2.cvtColor(image_5_6_bgr, cv2.COLOR_BGR2HSV)\n",
    "image_5_6_hsv_points = mask_5_6.reshape(900,1200,1) * image_5_6_hsv\n",
    "image_5_6_hsv_points = image_5_6_hsv_points.reshape(900 * 1200,3)\n",
    "image_5_6_hsv_points = image_5_6_hsv_points[image_5_6_hsv_points.sum(axis=(1)) != 0]/255"
   ]
  },
  {
   "cell_type": "code",
   "execution_count": 103,
   "metadata": {},
   "outputs": [],
   "source": [
    "# add new masks and hsvPoints into array\n",
    "masks[20] = mask_5_6\n",
    "hsvPoints = np.append(hsvPoints, image_5_6_hsv_points, axis = 0)"
   ]
  },
  {
   "source": [
    "### 5.9.png"
   ],
   "cell_type": "markdown",
   "metadata": {}
  },
  {
   "cell_type": "code",
   "execution_count": 104,
   "metadata": {},
   "outputs": [],
   "source": [
    "# draw mask\n",
    "image_5_9 = cv2.imread('ECE5242Proj1-train/5.9.png', 0)\n",
    "image_5_9_bgr = cv2.imread('ECE5242Proj1-train/5.9.png', 1)\n",
    "plt.imshow(image_5_9, cmap = \"gray\")\n",
    "roi_5_9 = RoiPoly(color='r')"
   ]
  },
  {
   "cell_type": "code",
   "execution_count": 105,
   "metadata": {},
   "outputs": [],
   "source": [
    "# assign & show mask\n",
    "mask_5_9 = roi_5_9.get_mask(image_5_9)"
   ]
  },
  {
   "cell_type": "code",
   "execution_count": 106,
   "metadata": {},
   "outputs": [],
   "source": [
    "# take just selected HSV pixels\n",
    "image_5_9_rgb = cv2.cvtColor(image_5_9_bgr, cv2.COLOR_BGR2RGB)\n",
    "image_5_9_hsv = cv2.cvtColor(image_5_9_bgr, cv2.COLOR_BGR2HSV)\n",
    "image_5_9_hsv_points = mask_5_9.reshape(900,1200,1) * image_5_9_hsv\n",
    "image_5_9_hsv_points = image_5_9_hsv_points.reshape(900 * 1200,3)\n",
    "image_5_9_hsv_points = image_5_9_hsv_points[image_5_9_hsv_points.sum(axis=(1)) != 0]/255"
   ]
  },
  {
   "cell_type": "code",
   "execution_count": 107,
   "metadata": {},
   "outputs": [],
   "source": [
    "# add new masks and hsvPoints into array\n",
    "masks[21] = mask_5_9\n",
    "hsvPoints = np.append(hsvPoints, image_5_9_hsv_points, axis = 0)"
   ]
  },
  {
   "source": [
    "### 5.10.png"
   ],
   "cell_type": "markdown",
   "metadata": {}
  },
  {
   "cell_type": "code",
   "execution_count": 108,
   "metadata": {},
   "outputs": [],
   "source": [
    "# draw mask\n",
    "image_5_10 = cv2.imread('ECE5242Proj1-train/5.10.png', 0)\n",
    "image_5_10_bgr = cv2.imread('ECE5242Proj1-train/5.10.png', 1)\n",
    "plt.imshow(image_5_10, cmap = \"gray\")\n",
    "roi_5_10 = RoiPoly(color='r')"
   ]
  },
  {
   "cell_type": "code",
   "execution_count": 109,
   "metadata": {},
   "outputs": [],
   "source": [
    "# assign & show mask\n",
    "mask_5_10 = roi_5_10.get_mask(image_5_10)"
   ]
  },
  {
   "cell_type": "code",
   "execution_count": 110,
   "metadata": {},
   "outputs": [],
   "source": [
    "# take just selected HSV pixels\n",
    "image_5_10_rgb = cv2.cvtColor(image_5_10_bgr, cv2.COLOR_BGR2RGB)\n",
    "image_5_10_hsv = cv2.cvtColor(image_5_10_bgr, cv2.COLOR_BGR2HSV)\n",
    "image_5_10_hsv_points = mask_5_10.reshape(900,1200,1) * image_5_10_hsv\n",
    "image_5_10_hsv_points = image_5_10_hsv_points.reshape(900 * 1200,3)\n",
    "image_5_10_hsv_points = image_5_10_hsv_points[image_5_10_hsv_points.sum(axis=(1)) != 0]/255"
   ]
  },
  {
   "cell_type": "code",
   "execution_count": 111,
   "metadata": {},
   "outputs": [],
   "source": [
    "# add new masks and hsvPoints into array\n",
    "masks[22] = mask_5_10\n",
    "hsvPoints = np.append(hsvPoints, image_5_10_hsv_points, axis = 0)"
   ]
  },
  {
   "source": [
    "### 6.1.png"
   ],
   "cell_type": "markdown",
   "metadata": {}
  },
  {
   "cell_type": "code",
   "execution_count": 112,
   "metadata": {},
   "outputs": [],
   "source": [
    "# draw mask\n",
    "image_6_1 = cv2.imread('ECE5242Proj1-train/6.1.png', 0)\n",
    "image_6_1_bgr = cv2.imread('ECE5242Proj1-train/6.1.png', 1)\n",
    "plt.imshow(image_6_1, cmap = \"gray\")\n",
    "roi_6_1 = RoiPoly(color='r')"
   ]
  },
  {
   "cell_type": "code",
   "execution_count": 113,
   "metadata": {},
   "outputs": [],
   "source": [
    "# assign & show mask\n",
    "mask_6_1 = roi_6_1.get_mask(image_6_1)"
   ]
  },
  {
   "cell_type": "code",
   "execution_count": 114,
   "metadata": {},
   "outputs": [],
   "source": [
    "# take just selected HSV pixels\n",
    "image_6_1_rgb = cv2.cvtColor(image_6_1_bgr, cv2.COLOR_BGR2RGB)\n",
    "image_6_1_hsv = cv2.cvtColor(image_6_1_bgr, cv2.COLOR_BGR2HSV)\n",
    "image_6_1_hsv_points = mask_6_1.reshape(900,1200,1) * image_6_1_hsv\n",
    "image_6_1_hsv_points = image_6_1_hsv_points.reshape(900 * 1200,3)\n",
    "image_6_1_hsv_points = image_6_1_hsv_points[image_6_1_hsv_points.sum(axis=(1)) != 0]/255"
   ]
  },
  {
   "cell_type": "code",
   "execution_count": 115,
   "metadata": {},
   "outputs": [],
   "source": [
    "# add new masks and hsvPoints into array\n",
    "masks[23] = mask_6_1\n",
    "hsvPoints = np.append(hsvPoints, image_6_1_hsv_points, axis = 0)"
   ]
  },
  {
   "source": [
    "### 6.3.png"
   ],
   "cell_type": "markdown",
   "metadata": {}
  },
  {
   "cell_type": "code",
   "execution_count": 116,
   "metadata": {},
   "outputs": [],
   "source": [
    "# draw mask\n",
    "image_6_3 = cv2.imread('ECE5242Proj1-train/6.3.png', 0)\n",
    "image_6_3_bgr = cv2.imread('ECE5242Proj1-train/6.3.png', 1)\n",
    "plt.imshow(image_6_3, cmap = \"gray\")\n",
    "roi_6_3 = RoiPoly(color='r')"
   ]
  },
  {
   "cell_type": "code",
   "execution_count": 117,
   "metadata": {},
   "outputs": [],
   "source": [
    "# assign & show mask\n",
    "mask_6_3 = roi_6_3.get_mask(image_6_3)"
   ]
  },
  {
   "cell_type": "code",
   "execution_count": 118,
   "metadata": {},
   "outputs": [],
   "source": [
    "# take just selected HSV pixels\n",
    "image_6_3_rgb = cv2.cvtColor(image_6_3_bgr, cv2.COLOR_BGR2RGB)\n",
    "image_6_3_hsv = cv2.cvtColor(image_6_3_bgr, cv2.COLOR_BGR2HSV)\n",
    "image_6_3_hsv_points = mask_6_3.reshape(900,1200,1) * image_6_3_hsv\n",
    "image_6_3_hsv_points = image_6_3_hsv_points.reshape(900 * 1200,3)\n",
    "image_6_3_hsv_points = image_6_3_hsv_points[image_6_3_hsv_points.sum(axis=(1)) != 0]/255"
   ]
  },
  {
   "cell_type": "code",
   "execution_count": 119,
   "metadata": {},
   "outputs": [],
   "source": [
    "# add new masks and hsvPoints into array\n",
    "masks[24] = mask_6_3\n",
    "hsvPoints = np.append(hsvPoints, image_6_3_hsv_points, axis = 0)"
   ]
  },
  {
   "source": [
    "### 6.4.png"
   ],
   "cell_type": "markdown",
   "metadata": {}
  },
  {
   "cell_type": "code",
   "execution_count": 120,
   "metadata": {},
   "outputs": [],
   "source": [
    "# draw mask\n",
    "image_6_4 = cv2.imread('ECE5242Proj1-train/6.4.png', 0)\n",
    "image_6_4_bgr = cv2.imread('ECE5242Proj1-train/6.4.png', 1)\n",
    "plt.imshow(image_6_4, cmap = \"gray\")\n",
    "roi_6_4 = RoiPoly(color='r')"
   ]
  },
  {
   "cell_type": "code",
   "execution_count": 121,
   "metadata": {},
   "outputs": [],
   "source": [
    "# assign & show mask\n",
    "mask_6_4 = roi_6_4.get_mask(image_6_4)"
   ]
  },
  {
   "cell_type": "code",
   "execution_count": 122,
   "metadata": {},
   "outputs": [],
   "source": [
    "# take just selected HSV pixels\n",
    "image_6_4_rgb = cv2.cvtColor(image_6_4_bgr, cv2.COLOR_BGR2RGB)\n",
    "image_6_4_hsv = cv2.cvtColor(image_6_4_bgr, cv2.COLOR_BGR2HSV)\n",
    "image_6_4_hsv_points = mask_6_4.reshape(900,1200,1) * image_6_4_hsv\n",
    "image_6_4_hsv_points = image_6_4_hsv_points.reshape(900 * 1200,3)\n",
    "image_6_4_hsv_points = image_6_4_hsv_points[image_6_4_hsv_points.sum(axis=(1)) != 0]/255"
   ]
  },
  {
   "cell_type": "code",
   "execution_count": 123,
   "metadata": {},
   "outputs": [],
   "source": [
    "# add new masks and hsvPoints into array\n",
    "masks[25] = mask_6_4\n",
    "hsvPoints = np.append(hsvPoints, image_6_4_hsv_points, axis = 0)"
   ]
  },
  {
   "source": [
    "### 6.5.png"
   ],
   "cell_type": "markdown",
   "metadata": {}
  },
  {
   "cell_type": "code",
   "execution_count": 124,
   "metadata": {},
   "outputs": [],
   "source": [
    "# draw mask\n",
    "image_6_5 = cv2.imread('ECE5242Proj1-train/6.5.png', 0)\n",
    "image_6_5_bgr = cv2.imread('ECE5242Proj1-train/6.5.png', 1)\n",
    "plt.imshow(image_6_5, cmap = \"gray\")\n",
    "roi_6_5 = RoiPoly(color='r')"
   ]
  },
  {
   "cell_type": "code",
   "execution_count": 125,
   "metadata": {},
   "outputs": [],
   "source": [
    "# assign & show mask\n",
    "mask_6_5 = roi_6_5.get_mask(image_6_5)"
   ]
  },
  {
   "cell_type": "code",
   "execution_count": 126,
   "metadata": {},
   "outputs": [],
   "source": [
    "# take just selected HSV pixels\n",
    "image_6_5_rgb = cv2.cvtColor(image_6_5_bgr, cv2.COLOR_BGR2RGB)\n",
    "image_6_5_hsv = cv2.cvtColor(image_6_5_bgr, cv2.COLOR_BGR2HSV)\n",
    "image_6_5_hsv_points = mask_6_5.reshape(900,1200,1) * image_6_5_hsv\n",
    "image_6_5_hsv_points = image_6_5_hsv_points.reshape(900 * 1200,3)\n",
    "image_6_5_hsv_points = image_6_5_hsv_points[image_6_5_hsv_points.sum(axis=(1)) != 0]/255"
   ]
  },
  {
   "cell_type": "code",
   "execution_count": 127,
   "metadata": {},
   "outputs": [],
   "source": [
    "# add new masks and hsvPoints into array\n",
    "masks[26] = mask_6_5\n",
    "hsvPoints = np.append(hsvPoints, image_6_5_hsv_points, axis = 0)"
   ]
  },
  {
   "source": [
    "### 6.6.png"
   ],
   "cell_type": "markdown",
   "metadata": {}
  },
  {
   "cell_type": "code",
   "execution_count": 128,
   "metadata": {},
   "outputs": [],
   "source": [
    "# draw mask\n",
    "image_6_6 = cv2.imread('ECE5242Proj1-train/6.6.png', 0)\n",
    "image_6_6_bgr = cv2.imread('ECE5242Proj1-train/6.6.png', 1)\n",
    "plt.imshow(image_6_6, cmap = \"gray\")\n",
    "roi_6_6 = RoiPoly(color='r')"
   ]
  },
  {
   "cell_type": "code",
   "execution_count": 129,
   "metadata": {},
   "outputs": [],
   "source": [
    "# assign & show mask\n",
    "mask_6_6 = roi_6_6.get_mask(image_6_6)"
   ]
  },
  {
   "cell_type": "code",
   "execution_count": 130,
   "metadata": {},
   "outputs": [],
   "source": [
    "# take just selected HSV pixels\n",
    "image_6_6_rgb = cv2.cvtColor(image_6_6_bgr, cv2.COLOR_BGR2RGB)\n",
    "image_6_6_hsv = cv2.cvtColor(image_6_6_bgr, cv2.COLOR_BGR2HSV)\n",
    "image_6_6_hsv_points = mask_6_6.reshape(900,1200,1) * image_6_6_hsv\n",
    "image_6_6_hsv_points = image_6_6_hsv_points.reshape(900 * 1200,3)\n",
    "image_6_6_hsv_points = image_6_6_hsv_points[image_6_6_hsv_points.sum(axis=(1)) != 0]/255"
   ]
  },
  {
   "cell_type": "code",
   "execution_count": 131,
   "metadata": {},
   "outputs": [],
   "source": [
    "# add new masks and hsvPoints into array\n",
    "masks[27] = mask_6_6\n",
    "hsvPoints = np.append(hsvPoints, image_6_6_hsv_points, axis = 0)"
   ]
  },
  {
   "source": [
    "### 6.7.png"
   ],
   "cell_type": "markdown",
   "metadata": {}
  },
  {
   "cell_type": "code",
   "execution_count": 132,
   "metadata": {},
   "outputs": [],
   "source": [
    "# draw mask\n",
    "image_6_7 = cv2.imread('ECE5242Proj1-train/6.7.png', 0)\n",
    "image_6_7_bgr = cv2.imread('ECE5242Proj1-train/6.7.png', 1)\n",
    "plt.imshow(image_6_7, cmap = \"gray\")\n",
    "roi_6_7 = RoiPoly(color='r')"
   ]
  },
  {
   "cell_type": "code",
   "execution_count": 133,
   "metadata": {},
   "outputs": [],
   "source": [
    "# assign & show mask\n",
    "mask_6_7 = roi_6_7.get_mask(image_6_7)"
   ]
  },
  {
   "cell_type": "code",
   "execution_count": 134,
   "metadata": {},
   "outputs": [],
   "source": [
    "# take just selected HSV pixels\n",
    "image_6_7_rgb = cv2.cvtColor(image_6_7_bgr, cv2.COLOR_BGR2RGB)\n",
    "image_6_7_hsv = cv2.cvtColor(image_6_7_bgr, cv2.COLOR_BGR2HSV)\n",
    "image_6_7_hsv_points = mask_6_7.reshape(900,1200,1) * image_6_7_hsv\n",
    "image_6_7_hsv_points = image_6_7_hsv_points.reshape(900 * 1200,3)\n",
    "image_6_7_hsv_points = image_6_7_hsv_points[image_6_7_hsv_points.sum(axis=(1)) != 0]/255"
   ]
  },
  {
   "cell_type": "code",
   "execution_count": 135,
   "metadata": {},
   "outputs": [],
   "source": [
    "# add new masks and hsvPoints into array\n",
    "masks[28] = mask_6_7\n",
    "hsvPoints = np.append(hsvPoints, image_6_7_hsv_points, axis = 0)"
   ]
  },
  {
   "source": [
    "### 7.2.png"
   ],
   "cell_type": "markdown",
   "metadata": {}
  },
  {
   "cell_type": "code",
   "execution_count": 136,
   "metadata": {},
   "outputs": [],
   "source": [
    "# draw mask\n",
    "image_7_2 = cv2.imread('ECE5242Proj1-train/7.2.png', 0)\n",
    "image_7_2_bgr = cv2.imread('ECE5242Proj1-train/7.2.png', 1)\n",
    "plt.imshow(image_7_2, cmap = \"gray\")\n",
    "roi_7_2 = RoiPoly(color='r')"
   ]
  },
  {
   "cell_type": "code",
   "execution_count": 137,
   "metadata": {},
   "outputs": [],
   "source": [
    "# assign & show mask\n",
    "mask_7_2 = roi_7_2.get_mask(image_7_2)"
   ]
  },
  {
   "cell_type": "code",
   "execution_count": 138,
   "metadata": {},
   "outputs": [],
   "source": [
    "# take just selected HSV pixels\n",
    "image_7_2_rgb = cv2.cvtColor(image_7_2_bgr, cv2.COLOR_BGR2RGB)\n",
    "image_7_2_hsv = cv2.cvtColor(image_7_2_bgr, cv2.COLOR_BGR2HSV)\n",
    "image_7_2_hsv_points = mask_7_2.reshape(900,1200,1) * image_7_2_hsv\n",
    "image_7_2_hsv_points = image_7_2_hsv_points.reshape(900 * 1200,3)\n",
    "image_7_2_hsv_points = image_7_2_hsv_points[image_7_2_hsv_points.sum(axis=(1)) != 0]/255"
   ]
  },
  {
   "cell_type": "code",
   "execution_count": 139,
   "metadata": {},
   "outputs": [],
   "source": [
    "# add new masks and hsvPoints into array\n",
    "masks[29] = mask_7_2\n",
    "hsvPoints = np.append(hsvPoints, image_7_2_hsv_points, axis = 0)"
   ]
  },
  {
   "source": [
    "### 7.3.png"
   ],
   "cell_type": "markdown",
   "metadata": {}
  },
  {
   "cell_type": "code",
   "execution_count": 140,
   "metadata": {},
   "outputs": [],
   "source": [
    "# draw mask\n",
    "image_7_3 = cv2.imread('ECE5242Proj1-train/7.3.png', 0)\n",
    "image_7_3_bgr = cv2.imread('ECE5242Proj1-train/7.3.png', 1)\n",
    "plt.imshow(image_7_3, cmap = \"gray\")\n",
    "roi_7_3 = RoiPoly(color='r')"
   ]
  },
  {
   "cell_type": "code",
   "execution_count": 141,
   "metadata": {},
   "outputs": [],
   "source": [
    "# assign & show mask\n",
    "mask_7_3 = roi_7_3.get_mask(image_7_3)"
   ]
  },
  {
   "cell_type": "code",
   "execution_count": 142,
   "metadata": {},
   "outputs": [],
   "source": [
    "# take just selected HSV pixels\n",
    "image_7_3_rgb = cv2.cvtColor(image_7_3_bgr, cv2.COLOR_BGR2RGB)\n",
    "image_7_3_hsv = cv2.cvtColor(image_7_3_bgr, cv2.COLOR_BGR2HSV)\n",
    "image_7_3_hsv_points = mask_7_3.reshape(900,1200,1) * image_7_3_hsv\n",
    "image_7_3_hsv_points = image_7_3_hsv_points.reshape(900 * 1200,3)\n",
    "image_7_3_hsv_points = image_7_3_hsv_points[image_7_3_hsv_points.sum(axis=(1)) != 0]/255"
   ]
  },
  {
   "cell_type": "code",
   "execution_count": 143,
   "metadata": {},
   "outputs": [],
   "source": [
    "# add new masks and hsvPoints into array\n",
    "masks[30] = mask_7_3\n",
    "hsvPoints = np.append(hsvPoints, image_7_3_hsv_points, axis = 0)"
   ]
  },
  {
   "source": [
    "### 7.4.png"
   ],
   "cell_type": "markdown",
   "metadata": {}
  },
  {
   "cell_type": "code",
   "execution_count": 144,
   "metadata": {},
   "outputs": [],
   "source": [
    "# draw mask\n",
    "image_7_4 = cv2.imread('ECE5242Proj1-train/7.4.png', 0)\n",
    "image_7_4_bgr = cv2.imread('ECE5242Proj1-train/7.4.png', 1)\n",
    "plt.imshow(image_7_4, cmap = \"gray\")\n",
    "roi_7_4 = RoiPoly(color='r')"
   ]
  },
  {
   "cell_type": "code",
   "execution_count": 145,
   "metadata": {},
   "outputs": [],
   "source": [
    "# assign & show mask\n",
    "mask_7_4 = roi_7_4.get_mask(image_7_4)"
   ]
  },
  {
   "cell_type": "code",
   "execution_count": 146,
   "metadata": {},
   "outputs": [],
   "source": [
    "# take just selected HSV pixels\n",
    "image_7_4_rgb = cv2.cvtColor(image_7_4_bgr, cv2.COLOR_BGR2RGB)\n",
    "image_7_4_hsv = cv2.cvtColor(image_7_4_bgr, cv2.COLOR_BGR2HSV)\n",
    "image_7_4_hsv_points = mask_7_4.reshape(900,1200,1) * image_7_4_hsv\n",
    "image_7_4_hsv_points = image_7_4_hsv_points.reshape(900 * 1200,3)\n",
    "image_7_4_hsv_points = image_7_4_hsv_points[image_7_4_hsv_points.sum(axis=(1)) != 0]/255"
   ]
  },
  {
   "cell_type": "code",
   "execution_count": 147,
   "metadata": {},
   "outputs": [],
   "source": [
    "# add new masks and hsvPoints into array\n",
    "masks[31] = mask_7_4\n",
    "hsvPoints = np.append(hsvPoints, image_7_4_hsv_points, axis = 0)"
   ]
  },
  {
   "source": [
    "### 8.2.png"
   ],
   "cell_type": "markdown",
   "metadata": {}
  },
  {
   "cell_type": "code",
   "execution_count": 148,
   "metadata": {},
   "outputs": [],
   "source": [
    "# draw mask\n",
    "image_8_2 = cv2.imread('ECE5242Proj1-train/8.2.png', 0)\n",
    "image_8_2_bgr = cv2.imread('ECE5242Proj1-train/8.2.png', 1)\n",
    "plt.imshow(image_8_2, cmap = \"gray\")\n",
    "roi_8_2 = RoiPoly(color='r')"
   ]
  },
  {
   "cell_type": "code",
   "execution_count": 149,
   "metadata": {},
   "outputs": [],
   "source": [
    "# assign & show mask\n",
    "mask_8_2 = roi_8_2.get_mask(image_8_2)"
   ]
  },
  {
   "cell_type": "code",
   "execution_count": 150,
   "metadata": {},
   "outputs": [],
   "source": [
    "# take just selected HSV pixels\n",
    "image_8_2_rgb = cv2.cvtColor(image_8_2_bgr, cv2.COLOR_BGR2RGB)\n",
    "image_8_2_hsv = cv2.cvtColor(image_8_2_bgr, cv2.COLOR_BGR2HSV)\n",
    "image_8_2_hsv_points = mask_8_2.reshape(900,1200,1) * image_8_2_hsv\n",
    "image_8_2_hsv_points = image_8_2_hsv_points.reshape(900 * 1200,3)\n",
    "image_8_2_hsv_points = image_8_2_hsv_points[image_8_2_hsv_points.sum(axis=(1)) != 0]/255"
   ]
  },
  {
   "cell_type": "code",
   "execution_count": 151,
   "metadata": {},
   "outputs": [],
   "source": [
    "# add new masks and hsvPoints into array\n",
    "masks[32] = mask_8_2\n",
    "hsvPoints = np.append(hsvPoints, image_8_2_hsv_points, axis = 0)"
   ]
  },
  {
   "source": [
    "### 8.3.png"
   ],
   "cell_type": "markdown",
   "metadata": {}
  },
  {
   "cell_type": "code",
   "execution_count": 152,
   "metadata": {},
   "outputs": [],
   "source": [
    "# draw mask\n",
    "image_8_3 = cv2.imread('ECE5242Proj1-train/8.3.png', 0)\n",
    "image_8_3_bgr = cv2.imread('ECE5242Proj1-train/8.3.png', 1)\n",
    "plt.imshow(image_8_3, cmap = \"gray\")\n",
    "roi_8_3 = RoiPoly(color='r')"
   ]
  },
  {
   "cell_type": "code",
   "execution_count": 153,
   "metadata": {},
   "outputs": [],
   "source": [
    "# assign & show mask\n",
    "mask_8_3 = roi_8_3.get_mask(image_8_3)"
   ]
  },
  {
   "cell_type": "code",
   "execution_count": 154,
   "metadata": {},
   "outputs": [],
   "source": [
    "# take just selected HSV pixels\n",
    "image_8_3_rgb = cv2.cvtColor(image_8_3_bgr, cv2.COLOR_BGR2RGB)\n",
    "image_8_3_hsv = cv2.cvtColor(image_8_3_bgr, cv2.COLOR_BGR2HSV)\n",
    "image_8_3_hsv_points = mask_8_3.reshape(900,1200,1) * image_8_3_hsv\n",
    "image_8_3_hsv_points = image_8_3_hsv_points.reshape(900 * 1200,3)\n",
    "image_8_3_hsv_points = image_8_3_hsv_points[image_8_3_hsv_points.sum(axis=(1)) != 0]/255"
   ]
  },
  {
   "cell_type": "code",
   "execution_count": 155,
   "metadata": {},
   "outputs": [],
   "source": [
    "# add new masks and hsvPoints into array\n",
    "masks[33] = mask_8_3\n",
    "hsvPoints = np.append(hsvPoints, image_8_3_hsv_points, axis = 0)"
   ]
  },
  {
   "source": [
    "### 8.4.png"
   ],
   "cell_type": "markdown",
   "metadata": {}
  },
  {
   "cell_type": "code",
   "execution_count": 156,
   "metadata": {},
   "outputs": [],
   "source": [
    "# draw mask\n",
    "image_8_4 = cv2.imread('ECE5242Proj1-train/8.4.png', 0)\n",
    "image_8_4_bgr = cv2.imread('ECE5242Proj1-train/8.4.png', 1)\n",
    "plt.imshow(image_8_4, cmap = \"gray\")\n",
    "roi_8_4 = RoiPoly(color='r')"
   ]
  },
  {
   "cell_type": "code",
   "execution_count": 157,
   "metadata": {},
   "outputs": [],
   "source": [
    "# assign & show mask\n",
    "mask_8_4 = roi_8_4.get_mask(image_8_4)"
   ]
  },
  {
   "cell_type": "code",
   "execution_count": 158,
   "metadata": {},
   "outputs": [],
   "source": [
    "# take just selected HSV pixels\n",
    "image_8_4_rgb = cv2.cvtColor(image_8_4_bgr, cv2.COLOR_BGR2RGB)\n",
    "image_8_4_hsv = cv2.cvtColor(image_8_4_bgr, cv2.COLOR_BGR2HSV)\n",
    "image_8_4_hsv_points = mask_8_4.reshape(900,1200,1) * image_8_4_hsv\n",
    "image_8_4_hsv_points = image_8_4_hsv_points.reshape(900 * 1200,3)\n",
    "image_8_4_hsv_points = image_8_4_hsv_points[image_8_4_hsv_points.sum(axis=(1)) != 0]/255"
   ]
  },
  {
   "cell_type": "code",
   "execution_count": 159,
   "metadata": {},
   "outputs": [],
   "source": [
    "# add new masks and hsvPoints into array\n",
    "masks[34] = mask_8_4\n",
    "hsvPoints = np.append(hsvPoints, image_8_4_hsv_points, axis = 0)"
   ]
  },
  {
   "source": [
    "### 9.2.png"
   ],
   "cell_type": "markdown",
   "metadata": {}
  },
  {
   "cell_type": "code",
   "execution_count": 160,
   "metadata": {},
   "outputs": [],
   "source": [
    "# draw mask\n",
    "image_9_2 = cv2.imread('ECE5242Proj1-train/9.2.png', 0)\n",
    "image_9_2_bgr = cv2.imread('ECE5242Proj1-train/9.2.png', 1)\n",
    "plt.imshow(image_9_2, cmap = \"gray\")\n",
    "roi_9_2 = RoiPoly(color='r')"
   ]
  },
  {
   "cell_type": "code",
   "execution_count": 161,
   "metadata": {},
   "outputs": [],
   "source": [
    "# assign & show mask\n",
    "mask_9_2 = roi_9_2.get_mask(image_9_2)"
   ]
  },
  {
   "cell_type": "code",
   "execution_count": 162,
   "metadata": {},
   "outputs": [],
   "source": [
    "# take just selected HSV pixels\n",
    "image_9_2_rgb = cv2.cvtColor(image_9_2_bgr, cv2.COLOR_BGR2RGB)\n",
    "image_9_2_hsv = cv2.cvtColor(image_9_2_bgr, cv2.COLOR_BGR2HSV)\n",
    "image_9_2_hsv_points = mask_9_2.reshape(900,1200,1) * image_9_2_hsv\n",
    "image_9_2_hsv_points = image_9_2_hsv_points.reshape(900 * 1200,3)\n",
    "image_9_2_hsv_points = image_9_2_hsv_points[image_9_2_hsv_points.sum(axis=(1)) != 0]/255"
   ]
  },
  {
   "cell_type": "code",
   "execution_count": 163,
   "metadata": {},
   "outputs": [],
   "source": [
    "# add new masks and hsvPoints into array\n",
    "masks[35] = mask_9_2\n",
    "hsvPoints = np.append(hsvPoints, image_9_2_hsv_points, axis = 0)"
   ]
  },
  {
   "source": [
    "### 10.4.png"
   ],
   "cell_type": "markdown",
   "metadata": {}
  },
  {
   "cell_type": "code",
   "execution_count": 164,
   "metadata": {},
   "outputs": [],
   "source": [
    "# draw mask\n",
    "image_10_4 = cv2.imread('ECE5242Proj1-train/10.4.png', 0)\n",
    "image_10_4_bgr = cv2.imread('ECE5242Proj1-train/10.4.png', 1)\n",
    "plt.imshow(image_10_4, cmap = \"gray\")\n",
    "roi_10_4 = RoiPoly(color='r')"
   ]
  },
  {
   "cell_type": "code",
   "execution_count": 166,
   "metadata": {},
   "outputs": [],
   "source": [
    "# assign & show mask\n",
    "mask_10_4 = roi_10_4.get_mask(image_10_4)"
   ]
  },
  {
   "cell_type": "code",
   "execution_count": 167,
   "metadata": {},
   "outputs": [],
   "source": [
    "# take just selected HSV pixels\n",
    "image_10_4_rgb = cv2.cvtColor(image_10_4_bgr, cv2.COLOR_BGR2RGB)\n",
    "image_10_4_hsv = cv2.cvtColor(image_10_4_bgr, cv2.COLOR_BGR2HSV)\n",
    "image_10_4_hsv_points = mask_10_4.reshape(900,1200,1) * image_10_4_hsv\n",
    "image_10_4_hsv_points = image_10_4_hsv_points.reshape(900 * 1200,3)\n",
    "image_10_4_hsv_points = image_10_4_hsv_points[image_10_4_hsv_points.sum(axis=(1)) != 0]/255"
   ]
  },
  {
   "cell_type": "code",
   "execution_count": 168,
   "metadata": {},
   "outputs": [],
   "source": [
    "# add new masks and hsvPoints into array\n",
    "masks[36] = mask_10_4\n",
    "hsvPoints = np.append(hsvPoints, image_10_4_hsv_points, axis = 0)"
   ]
  },
  {
   "source": [
    "# Exporting Masks and HSV Points"
   ],
   "cell_type": "markdown",
   "metadata": {}
  },
  {
   "cell_type": "code",
   "execution_count": 169,
   "metadata": {},
   "outputs": [],
   "source": [
    "# export masks and hsv points as a new file\n",
    "np.save('masks.npy', masks)\n",
    "np.save('hsvPoints.npy', hsvPoints)"
   ]
  },
  {
   "cell_type": "code",
   "execution_count": 20,
   "metadata": {},
   "outputs": [],
   "source": [
    "# loadedHSVPoints = np.load('hsvPoints.npy')\n",
    "# loadedMasks = np.load('masks.npy')"
   ]
  }
 ]
}