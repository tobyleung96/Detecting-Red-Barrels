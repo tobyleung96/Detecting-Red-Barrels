{
 "metadata": {
  "language_info": {
   "codemirror_mode": {
    "name": "ipython",
    "version": 3
   },
   "file_extension": ".py",
   "mimetype": "text/x-python",
   "name": "python",
   "nbconvert_exporter": "python",
   "pygments_lexer": "ipython3",
   "version": "3.8.3-final"
  },
  "orig_nbformat": 2,
  "kernelspec": {
   "name": "python3",
   "display_name": "Python 3.8.3 64-bit ('Citadel': conda)",
   "metadata": {
    "interpreter": {
     "hash": "844c3bfd31d2f0ed64a3e852d158656216ff6cfcb1c607d51d913b1c70e40404"
    }
   }
  }
 },
 "nbformat": 4,
 "nbformat_minor": 2,
 "cells": [
  {
   "cell_type": "code",
   "execution_count": 7,
   "metadata": {},
   "outputs": [],
   "source": [
    "%matplotlib qt\n",
    "\n",
    "from matplotlib import pyplot as plt\n",
    "from matplotlib import patches as mpatches\n",
    "import cv2\n",
    "from skimage import data, util\n",
    "from skimage.measure import label, regionprops\n",
    "import numpy as np\n",
    "import math\n",
    "import os"
   ]
  },
  {
   "cell_type": "code",
   "execution_count": 8,
   "metadata": {},
   "outputs": [],
   "source": [
    "def muCalculator(pointsArray):\n",
    "    mu = np.mean(pointsArray, axis=0)\n",
    "    return mu\n",
    "\n",
    "def sigmaCovCalculator(pointsArray):\n",
    "    mu = muCalculator(pointsArray)\n",
    "    sigma = (1/pointsArray.shape[0]) * np.dot((pointsArray - mu).T , (pointsArray - mu))\n",
    "    return sigma\n",
    "\n",
    "def gaussian(pointsArray, mu, sigma):\n",
    "    gaussian = np.zeros((pointsArray.shape[0],1))\n",
    "    for pointIndex, point in enumerate(pointsArray):\n",
    "        difference = (point-mu).T\n",
    "        multiplier = 1/ ( math.pow((2*math.pi),(3/2)) * (math.pow( np.linalg.det(sigma) , (1/2) ) ) )\n",
    "        exponent = math.exp(-0.5 * np.dot(np.dot( difference.T, np.linalg.inv(sigma)), difference ))\n",
    "        output = multiplier * exponent\n",
    "        gaussian[pointIndex] = output\n",
    "    return gaussian\n",
    "\n",
    "def calculateGMMProbabilities(inputImage, clusters):\n",
    "    GMMOutput = np.zeros((inputImage.shape[0], 1))\n",
    "    for cluster in clusters:\n",
    "        simpleGaussianOutput = gaussian(inputImage, cluster[\"mu\"], cluster[\"sigma\"])\n",
    "        GMMOutput = GMMOutput + ((1/clusters.shape[0]) * simpleGaussianOutput)\n",
    "    return GMMOutput"
   ]
  },
  {
   "cell_type": "code",
   "execution_count": 18,
   "metadata": {},
   "outputs": [
    {
     "output_type": "stream",
     "name": "stdout",
     "text": [
      "Calculating probabilities for file number: 0...\n"
     ]
    },
    {
     "output_type": "error",
     "ename": "KeyboardInterrupt",
     "evalue": "",
     "traceback": [
      "\u001b[0;31m---------------------------------------------------------------------------\u001b[0m",
      "\u001b[0;31mKeyboardInterrupt\u001b[0m                         Traceback (most recent call last)",
      "\u001b[0;32m<ipython-input-18-d4286ad3140f>\u001b[0m in \u001b[0;36m<module>\u001b[0;34m\u001b[0m\n\u001b[1;32m     23\u001b[0m \u001b[0;34m\u001b[0m\u001b[0m\n\u001b[1;32m     24\u001b[0m     \u001b[0;31m# calculate GMM probabilities\u001b[0m\u001b[0;34m\u001b[0m\u001b[0;34m\u001b[0m\u001b[0;34m\u001b[0m\u001b[0m\n\u001b[0;32m---> 25\u001b[0;31m     \u001b[0mGMMOutput\u001b[0m \u001b[0;34m=\u001b[0m \u001b[0mcalculateGMMProbabilities\u001b[0m\u001b[0;34m(\u001b[0m\u001b[0minput_image\u001b[0m\u001b[0;34m,\u001b[0m \u001b[0mclusters\u001b[0m\u001b[0;34m)\u001b[0m\u001b[0;34m\u001b[0m\u001b[0;34m\u001b[0m\u001b[0m\n\u001b[0m\u001b[1;32m     26\u001b[0m \u001b[0;34m\u001b[0m\u001b[0m\n\u001b[1;32m     27\u001b[0m \u001b[0;34m\u001b[0m\u001b[0m\n",
      "\u001b[0;32m<ipython-input-8-1a8008acdb6e>\u001b[0m in \u001b[0;36mcalculateGMMProbabilities\u001b[0;34m(inputImage, clusters)\u001b[0m\n\u001b[1;32m     21\u001b[0m     \u001b[0mGMMOutput\u001b[0m \u001b[0;34m=\u001b[0m \u001b[0mnp\u001b[0m\u001b[0;34m.\u001b[0m\u001b[0mzeros\u001b[0m\u001b[0;34m(\u001b[0m\u001b[0;34m(\u001b[0m\u001b[0minputImage\u001b[0m\u001b[0;34m.\u001b[0m\u001b[0mshape\u001b[0m\u001b[0;34m[\u001b[0m\u001b[0;36m0\u001b[0m\u001b[0;34m]\u001b[0m\u001b[0;34m,\u001b[0m \u001b[0;36m1\u001b[0m\u001b[0;34m)\u001b[0m\u001b[0;34m)\u001b[0m\u001b[0;34m\u001b[0m\u001b[0;34m\u001b[0m\u001b[0m\n\u001b[1;32m     22\u001b[0m     \u001b[0;32mfor\u001b[0m \u001b[0mcluster\u001b[0m \u001b[0;32min\u001b[0m \u001b[0mclusters\u001b[0m\u001b[0;34m:\u001b[0m\u001b[0;34m\u001b[0m\u001b[0;34m\u001b[0m\u001b[0m\n\u001b[0;32m---> 23\u001b[0;31m         \u001b[0msimpleGaussianOutput\u001b[0m \u001b[0;34m=\u001b[0m \u001b[0mgaussian\u001b[0m\u001b[0;34m(\u001b[0m\u001b[0minputImage\u001b[0m\u001b[0;34m,\u001b[0m \u001b[0mcluster\u001b[0m\u001b[0;34m[\u001b[0m\u001b[0;34m\"mu\"\u001b[0m\u001b[0;34m]\u001b[0m\u001b[0;34m,\u001b[0m \u001b[0mcluster\u001b[0m\u001b[0;34m[\u001b[0m\u001b[0;34m\"sigma\"\u001b[0m\u001b[0;34m]\u001b[0m\u001b[0;34m)\u001b[0m\u001b[0;34m\u001b[0m\u001b[0;34m\u001b[0m\u001b[0m\n\u001b[0m\u001b[1;32m     24\u001b[0m         \u001b[0mGMMOutput\u001b[0m \u001b[0;34m=\u001b[0m \u001b[0mGMMOutput\u001b[0m \u001b[0;34m+\u001b[0m \u001b[0;34m(\u001b[0m\u001b[0;34m(\u001b[0m\u001b[0;36m1\u001b[0m\u001b[0;34m/\u001b[0m\u001b[0mclusters\u001b[0m\u001b[0;34m.\u001b[0m\u001b[0mshape\u001b[0m\u001b[0;34m[\u001b[0m\u001b[0;36m0\u001b[0m\u001b[0;34m]\u001b[0m\u001b[0;34m)\u001b[0m \u001b[0;34m*\u001b[0m \u001b[0msimpleGaussianOutput\u001b[0m\u001b[0;34m)\u001b[0m\u001b[0;34m\u001b[0m\u001b[0;34m\u001b[0m\u001b[0m\n\u001b[1;32m     25\u001b[0m     \u001b[0;32mreturn\u001b[0m \u001b[0mGMMOutput\u001b[0m\u001b[0;34m\u001b[0m\u001b[0;34m\u001b[0m\u001b[0m\n",
      "\u001b[0;32m<ipython-input-8-1a8008acdb6e>\u001b[0m in \u001b[0;36mgaussian\u001b[0;34m(pointsArray, mu, sigma)\u001b[0m\n\u001b[1;32m     13\u001b[0m         \u001b[0mdifference\u001b[0m \u001b[0;34m=\u001b[0m \u001b[0;34m(\u001b[0m\u001b[0mpoint\u001b[0m\u001b[0;34m-\u001b[0m\u001b[0mmu\u001b[0m\u001b[0;34m)\u001b[0m\u001b[0;34m.\u001b[0m\u001b[0mT\u001b[0m\u001b[0;34m\u001b[0m\u001b[0;34m\u001b[0m\u001b[0m\n\u001b[1;32m     14\u001b[0m         \u001b[0mmultiplier\u001b[0m \u001b[0;34m=\u001b[0m \u001b[0;36m1\u001b[0m\u001b[0;34m/\u001b[0m \u001b[0;34m(\u001b[0m \u001b[0mmath\u001b[0m\u001b[0;34m.\u001b[0m\u001b[0mpow\u001b[0m\u001b[0;34m(\u001b[0m\u001b[0;34m(\u001b[0m\u001b[0;36m2\u001b[0m\u001b[0;34m*\u001b[0m\u001b[0mmath\u001b[0m\u001b[0;34m.\u001b[0m\u001b[0mpi\u001b[0m\u001b[0;34m)\u001b[0m\u001b[0;34m,\u001b[0m\u001b[0;34m(\u001b[0m\u001b[0;36m3\u001b[0m\u001b[0;34m/\u001b[0m\u001b[0;36m2\u001b[0m\u001b[0;34m)\u001b[0m\u001b[0;34m)\u001b[0m \u001b[0;34m*\u001b[0m \u001b[0;34m(\u001b[0m\u001b[0mmath\u001b[0m\u001b[0;34m.\u001b[0m\u001b[0mpow\u001b[0m\u001b[0;34m(\u001b[0m \u001b[0mnp\u001b[0m\u001b[0;34m.\u001b[0m\u001b[0mlinalg\u001b[0m\u001b[0;34m.\u001b[0m\u001b[0mdet\u001b[0m\u001b[0;34m(\u001b[0m\u001b[0msigma\u001b[0m\u001b[0;34m)\u001b[0m \u001b[0;34m,\u001b[0m \u001b[0;34m(\u001b[0m\u001b[0;36m1\u001b[0m\u001b[0;34m/\u001b[0m\u001b[0;36m2\u001b[0m\u001b[0;34m)\u001b[0m \u001b[0;34m)\u001b[0m \u001b[0;34m)\u001b[0m \u001b[0;34m)\u001b[0m\u001b[0;34m\u001b[0m\u001b[0;34m\u001b[0m\u001b[0m\n\u001b[0;32m---> 15\u001b[0;31m         \u001b[0mexponent\u001b[0m \u001b[0;34m=\u001b[0m \u001b[0mmath\u001b[0m\u001b[0;34m.\u001b[0m\u001b[0mexp\u001b[0m\u001b[0;34m(\u001b[0m\u001b[0;34m-\u001b[0m\u001b[0;36m0.5\u001b[0m \u001b[0;34m*\u001b[0m \u001b[0mnp\u001b[0m\u001b[0;34m.\u001b[0m\u001b[0mdot\u001b[0m\u001b[0;34m(\u001b[0m\u001b[0mnp\u001b[0m\u001b[0;34m.\u001b[0m\u001b[0mdot\u001b[0m\u001b[0;34m(\u001b[0m \u001b[0mdifference\u001b[0m\u001b[0;34m.\u001b[0m\u001b[0mT\u001b[0m\u001b[0;34m,\u001b[0m \u001b[0mnp\u001b[0m\u001b[0;34m.\u001b[0m\u001b[0mlinalg\u001b[0m\u001b[0;34m.\u001b[0m\u001b[0minv\u001b[0m\u001b[0;34m(\u001b[0m\u001b[0msigma\u001b[0m\u001b[0;34m)\u001b[0m\u001b[0;34m)\u001b[0m\u001b[0;34m,\u001b[0m \u001b[0mdifference\u001b[0m \u001b[0;34m)\u001b[0m\u001b[0;34m)\u001b[0m\u001b[0;34m\u001b[0m\u001b[0;34m\u001b[0m\u001b[0m\n\u001b[0m\u001b[1;32m     16\u001b[0m         \u001b[0moutput\u001b[0m \u001b[0;34m=\u001b[0m \u001b[0mmultiplier\u001b[0m \u001b[0;34m*\u001b[0m \u001b[0mexponent\u001b[0m\u001b[0;34m\u001b[0m\u001b[0;34m\u001b[0m\u001b[0m\n\u001b[1;32m     17\u001b[0m         \u001b[0mgaussian\u001b[0m\u001b[0;34m[\u001b[0m\u001b[0mpointIndex\u001b[0m\u001b[0;34m]\u001b[0m \u001b[0;34m=\u001b[0m \u001b[0moutput\u001b[0m\u001b[0;34m\u001b[0m\u001b[0;34m\u001b[0m\u001b[0m\n",
      "\u001b[0;32m<__array_function__ internals>\u001b[0m in \u001b[0;36minv\u001b[0;34m(*args, **kwargs)\u001b[0m\n",
      "\u001b[0;32m~/opt/anaconda3/envs/Citadel/lib/python3.8/site-packages/numpy/linalg/linalg.py\u001b[0m in \u001b[0;36minv\u001b[0;34m(a)\u001b[0m\n\u001b[1;32m    538\u001b[0m \u001b[0;34m\u001b[0m\u001b[0m\n\u001b[1;32m    539\u001b[0m     \"\"\"\n\u001b[0;32m--> 540\u001b[0;31m     \u001b[0ma\u001b[0m\u001b[0;34m,\u001b[0m \u001b[0mwrap\u001b[0m \u001b[0;34m=\u001b[0m \u001b[0m_makearray\u001b[0m\u001b[0;34m(\u001b[0m\u001b[0ma\u001b[0m\u001b[0;34m)\u001b[0m\u001b[0;34m\u001b[0m\u001b[0;34m\u001b[0m\u001b[0m\n\u001b[0m\u001b[1;32m    541\u001b[0m     \u001b[0m_assert_stacked_2d\u001b[0m\u001b[0;34m(\u001b[0m\u001b[0ma\u001b[0m\u001b[0;34m)\u001b[0m\u001b[0;34m\u001b[0m\u001b[0;34m\u001b[0m\u001b[0m\n\u001b[1;32m    542\u001b[0m     \u001b[0m_assert_stacked_square\u001b[0m\u001b[0;34m(\u001b[0m\u001b[0ma\u001b[0m\u001b[0;34m)\u001b[0m\u001b[0;34m\u001b[0m\u001b[0;34m\u001b[0m\u001b[0m\n",
      "\u001b[0;32m~/opt/anaconda3/envs/Citadel/lib/python3.8/site-packages/numpy/linalg/linalg.py\u001b[0m in \u001b[0;36m_makearray\u001b[0;34m(a)\u001b[0m\n\u001b[1;32m    116\u001b[0m \u001b[0;32mdef\u001b[0m \u001b[0m_makearray\u001b[0m\u001b[0;34m(\u001b[0m\u001b[0ma\u001b[0m\u001b[0;34m)\u001b[0m\u001b[0;34m:\u001b[0m\u001b[0;34m\u001b[0m\u001b[0;34m\u001b[0m\u001b[0m\n\u001b[1;32m    117\u001b[0m     \u001b[0mnew\u001b[0m \u001b[0;34m=\u001b[0m \u001b[0masarray\u001b[0m\u001b[0;34m(\u001b[0m\u001b[0ma\u001b[0m\u001b[0;34m)\u001b[0m\u001b[0;34m\u001b[0m\u001b[0;34m\u001b[0m\u001b[0m\n\u001b[0;32m--> 118\u001b[0;31m     \u001b[0mwrap\u001b[0m \u001b[0;34m=\u001b[0m \u001b[0mgetattr\u001b[0m\u001b[0;34m(\u001b[0m\u001b[0ma\u001b[0m\u001b[0;34m,\u001b[0m \u001b[0;34m\"__array_prepare__\"\u001b[0m\u001b[0;34m,\u001b[0m \u001b[0mnew\u001b[0m\u001b[0;34m.\u001b[0m\u001b[0m__array_wrap__\u001b[0m\u001b[0;34m)\u001b[0m\u001b[0;34m\u001b[0m\u001b[0;34m\u001b[0m\u001b[0m\n\u001b[0m\u001b[1;32m    119\u001b[0m     \u001b[0;32mreturn\u001b[0m \u001b[0mnew\u001b[0m\u001b[0;34m,\u001b[0m \u001b[0mwrap\u001b[0m\u001b[0;34m\u001b[0m\u001b[0;34m\u001b[0m\u001b[0m\n\u001b[1;32m    120\u001b[0m \u001b[0;34m\u001b[0m\u001b[0m\n",
      "\u001b[0;31mKeyboardInterrupt\u001b[0m: "
     ]
    }
   ],
   "source": [
    "folder = \"Test_Set\"\n",
    "clusters = np.load('clusters.npy', allow_pickle=True)\n",
    "# imageFolderpath = \"Test_Set/\"\n",
    "\n",
    "for filenameIndex, filename in enumerate(os.listdir(folder)):\n",
    "    print(\"Calculating probabilities for file number: \" + str(filenameIndex) + \"...\")\n",
    "    # Reading images as RGB and HSV\n",
    "    # img_RGB = cv2.cvtColor( cv2.imread(os.path.join(folder,filename), 1) , cv2.COLOR_BGR2RGB)\n",
    "    # img_HSV = cv2.cvtColor( cv2.imread(os.path.join(folder,filename), 1) , cv2.COLOR_BGR2HSV)\n",
    "\n",
    "    imageName = os.fsdecode(filename)\n",
    "    path = \"Test_Set/\" + str(imageName)\n",
    "    img_RGB = cv2.cvtColor( cv2.imread(path, 1) , cv2.COLOR_BGR2RGB)\n",
    "    img_HSV = cv2.cvtColor( cv2.imread(path, 1) , cv2.COLOR_BGR2HSV)\n",
    "    img_dim = img_RGB.shape[0]*img_RGB.shape[1]\n",
    "\n",
    "    # make sure the input image is reshaped and normalized\n",
    "    input_image = img_HSV.reshape(img_dim, 3)\n",
    "    input_image = input_image[input_image.sum(axis=(1)) != 0]/255\n",
    "\n",
    "    # do the same to RGB version for plotting later\n",
    "    input_image_RGB = img_RGB.reshape(img_dim, 3)\n",
    "    input_image_RGB = input_image_RGB[input_image_RGB.sum(axis=(1)) != 0]/255\n",
    "\n",
    "    # calculate GMM probabilities\n",
    "    GMMOutput = calculateGMMProbabilities(input_image, clusters)\n",
    "\n",
    "\n",
    "    print(\"Conducting image filtering and computations...\")\n",
    "    # image erosion and dilation\n",
    "    kernel = cv2.getStructuringElement(cv2.MORPH_RECT,(7,7))\n",
    "    GMMOutput = np.float64(GMMOutput)\n",
    "    GMMOutput = cv2.erode(GMMOutput, kernel, iterations = 1)\n",
    "    GMMOutput = cv2.dilate(GMMOutput, kernel, iterations = 3)\n",
    "\n",
    "    # replace image with binary (1,0) for white and black\n",
    "    GMMOutput = np.where( GMMOutput > 0.99, 1, 0)\n",
    "\n",
    "    # label image with skimage\n",
    "    label_img = label(GMMOutput.reshape(img_RGB.shape[0], img_RGB.shape[1]), connectivity=2)\n",
    "    \n",
    "    # display results\n",
    "    fig, ax = plt.subplots(figsize=(10, 6))\n",
    "    ax.imshow(input_image_RGB.reshape(img_RGB.shape[0], img_RGB.shape[1], 3))\n",
    "    for region in regionprops(label_img):\n",
    "        if region.area >= 1200:\n",
    "            bboxAspect = (region.bbox[2]-region.bbox[0])/(region.bbox[3]-region.bbox[1])\n",
    "            if (bboxAspect > 1.0325 and bboxAspect < 1.9528):\n",
    "                minr, minc, maxr, maxc = region.bbox\n",
    "                rect = mpatches.Rectangle((minc, minr), maxc - minc, maxr - minr, fill=False, edgecolor='green', linewidth=2)\n",
    "                ax.add_patch(rect)\n",
    "                ratio = 493.0884217183345\n",
    "                barrelDistance = str( round(ratio/ math.sqrt(region.area) , 2)) + 'm'\n",
    "                plt.annotate(barrelDistance, (region.centroid[1], region.centroid[0]), color='white')\n",
    "                plt.show()\n",
    "                print(\"Test Image Number: \" + str(filenameIndex) + \",  Centroid Row:  \" + str(region.centroid[1]) + \",  Centroid Column:  \" + str(region.centroid[0]) + \",  Distance: \" + str(barrelDistance))\n",
    "    \n",
    "    # cv2.waitKey(0)\n",
    "    # cv2.destroyAllWindows()"
   ]
  },
  {
   "cell_type": "code",
   "execution_count": null,
   "metadata": {},
   "outputs": [],
   "source": [
    "Calculating probabilities for file number: 0...\n",
    "Conducting image filtering and computations...\n",
    "Calculating probabilities for file number: 1...\n",
    "Conducting image filtering and computations...\n",
    "Test Image Number: 1,  Centroid Row:  557.9893105734174,  Centroid Column:  384.84081869406697,  Distance: 4.49m\n",
    "Test Image Number: 1,  Centroid Row:  701.8167998018453,  Centroid Column:  448.6254876462939,  Distance: 2.74m\n",
    "Calculating probabilities for file number: 2...\n",
    "Conducting image filtering and computations...\n",
    "Test Image Number: 2,  Centroid Row:  638.7594684541108,  Centroid Column:  480.9151823380519,  Distance: 2.39m\n",
    "Calculating probabilities for file number: 3...\n",
    "Conducting image filtering and computations...\n",
    "Test Image Number: 3,  Centroid Row:  663.9574912891986,  Centroid Column:  396.2994773519164,  Distance: 6.51m\n",
    "Calculating probabilities for file number: 4...\n",
    "Conducting image filtering and computations...\n",
    "Test Image Number: 4,  Centroid Row:  635.2268522979092,  Centroid Column:  441.39581526800913,  Distance: 1.98m\n",
    "Calculating probabilities for file number: 5...\n",
    "---------------------------------------------------------------------------\n",
    "error                                     Traceback (most recent call last)\n",
    "<ipython-input-9-8fe3dda39b54> in <module>\n",
    "      4     print(\"Calculating probabilities for file number: \" + str(filenameIndex) + \"...\")\n",
    "      5     # Reading images as RGB and HSV\n",
    "----> 6     img_RGB = cv2.cvtColor( cv2.imread(os.path.join(folder,filename), 1) , cv2.COLOR_BGR2RGB)\n",
    "      7     img_HSV = cv2.cvtColor( cv2.imread(os.path.join(folder,filename), 1) , cv2.COLOR_BGR2HSV)\n",
    "      8     img_dim = img_RGB.shape[0]*img_RGB.shape[1]\n",
    "\n",
    "error: OpenCV(4.5.1) /private/var/folders/nz/vv4_9tw56nv9k3tkvyszvwg80000gn/T/pip-req-build-39p1qqfs/opencv/modules/imgproc/src/color.cpp:182: error: (-215:Assertion failed) !_src.empty() in function 'cvtColor'"
   ]
  },
  {
   "cell_type": "code",
   "execution_count": 15,
   "metadata": {},
   "outputs": [],
   "source": [
    "img = cv2.cvtColor( cv2.imread(\"Test_Set/006.png\" , 1), cv2.COLOR_BGR2RGB)"
   ]
  },
  {
   "cell_type": "code",
   "execution_count": 16,
   "metadata": {},
   "outputs": [
    {
     "output_type": "execute_result",
     "data": {
      "text/plain": [
       "array([[[163, 154, 136],\n",
       "        [164, 156, 136],\n",
       "        [164, 156, 134],\n",
       "        ...,\n",
       "        [134, 158, 166],\n",
       "        [111, 133, 145],\n",
       "        [ 88, 112, 124]],\n",
       "\n",
       "       [[162, 154, 136],\n",
       "        [164, 156, 136],\n",
       "        [163, 155, 132],\n",
       "        ...,\n",
       "        [ 89, 111, 121],\n",
       "        [ 78,  97, 110],\n",
       "        [ 89, 109, 123]],\n",
       "\n",
       "       [[166, 158, 139],\n",
       "        [164, 156, 136],\n",
       "        [165, 157, 135],\n",
       "        ...,\n",
       "        [ 78, 105, 114],\n",
       "        [ 99, 121, 133],\n",
       "        [110, 131, 145]],\n",
       "\n",
       "       ...,\n",
       "\n",
       "       [[177,  86,  55],\n",
       "        [177,  85,  54],\n",
       "        [179,  86,  53],\n",
       "        ...,\n",
       "        [250, 154, 130],\n",
       "        [254, 156, 133],\n",
       "        [246, 146, 123]],\n",
       "\n",
       "       [[172,  81,  50],\n",
       "        [174,  82,  50],\n",
       "        [178,  84,  52],\n",
       "        ...,\n",
       "        [244, 148, 122],\n",
       "        [251, 154, 128],\n",
       "        [244, 146, 119]],\n",
       "\n",
       "       [[169,  78,  45],\n",
       "        [172,  80,  46],\n",
       "        [176,  82,  48],\n",
       "        ...,\n",
       "        [240, 145, 117],\n",
       "        [244, 147, 117],\n",
       "        [246, 148, 117]]], dtype=uint8)"
      ]
     },
     "metadata": {},
     "execution_count": 16
    }
   ],
   "source": [
    "img"
   ]
  },
  {
   "cell_type": "code",
   "execution_count": null,
   "metadata": {},
   "outputs": [],
   "source": []
  }
 ]
}