{
 "metadata": {
  "language_info": {
   "codemirror_mode": {
    "name": "ipython",
    "version": 3
   },
   "file_extension": ".py",
   "mimetype": "text/x-python",
   "name": "python",
   "nbconvert_exporter": "python",
   "pygments_lexer": "ipython3",
   "version": "3.7.9-final"
  },
  "orig_nbformat": 2,
  "kernelspec": {
   "name": "python3",
   "display_name": "Python 3.7.9 64-bit ('cs5670_python_env': conda)",
   "metadata": {
    "interpreter": {
     "hash": "886c39f5996b95633d72593a2dc482851346c60b2bfc144d28173a163b335736"
    }
   }
  }
 },
 "nbformat": 4,
 "nbformat_minor": 2,
 "cells": [
  {
   "cell_type": "code",
   "execution_count": 2,
   "metadata": {},
   "outputs": [],
   "source": [
    "%matplotlib qt\n",
    "\n",
    "from roipoly import RoiPoly\n",
    "from matplotlib import pyplot as plt\n",
    "import cv2\n",
    "from skimage import data, util\n",
    "from skimage.measure import label, regionprops\n",
    "import numpy as np\n",
    "from PIL import Image\n",
    "import math\n",
    "from matplotlib import patches as mpatches"
   ]
  },
  {
   "source": [
    "# 1 Labeling"
   ],
   "cell_type": "markdown",
   "metadata": {}
  },
  {
   "source": [
    "## 1.1 Hand Labeling Appropriate Regions"
   ],
   "cell_type": "markdown",
   "metadata": {}
  },
  {
   "cell_type": "code",
   "execution_count": 2,
   "metadata": {},
   "outputs": [
    {
     "output_type": "execute_result",
     "data": {
      "text/plain": [
       "<matplotlib.image.AxesImage at 0x7f8d8301c100>"
      ]
     },
     "metadata": {},
     "execution_count": 2
    }
   ],
   "source": [
    "image = cv2.imread('ECE5242Proj1-train/2_3.1.png', 0)\n",
    "\n",
    "plt.imshow(image, cmap = \"gray\")"
   ]
  },
  {
   "cell_type": "code",
   "execution_count": 3,
   "metadata": {},
   "outputs": [],
   "source": [
    "my_roi = RoiPoly(color='r')"
   ]
  },
  {
   "cell_type": "code",
   "execution_count": 4,
   "metadata": {},
   "outputs": [],
   "source": [
    "plt.imshow(image, cmap='gray')\n",
    "my_roi.display_roi()"
   ]
  },
  {
   "cell_type": "code",
   "execution_count": 5,
   "metadata": {},
   "outputs": [
    {
     "output_type": "execute_result",
     "data": {
      "text/plain": [
       "<matplotlib.image.AxesImage at 0x7f7ffab58760>"
      ]
     },
     "metadata": {},
     "execution_count": 5
    }
   ],
   "source": [
    "mask = my_roi.get_mask(image)\n",
    "plt.imshow(mask)"
   ]
  },
  {
   "cell_type": "code",
   "execution_count": 6,
   "metadata": {},
   "outputs": [
    {
     "output_type": "stream",
     "name": "stdout",
     "text": [
      "(1080000, 3)\n"
     ]
    }
   ],
   "source": [
    "RGB_image = cv2.imread('ECE5242Proj1-train/2_3.1.png', 1)\n",
    "RGB_image = cv2.cvtColor(RGB_image, cv2.COLOR_BGR2HSV)\n",
    "red_image = mask.reshape(900,1200,1) * RGB_image\n",
    "red_image = red_image.reshape(900 * 1200,3)\n",
    "print(red_image.shape)"
   ]
  },
  {
   "cell_type": "code",
   "execution_count": 7,
   "metadata": {},
   "outputs": [
    {
     "output_type": "stream",
     "name": "stdout",
     "text": [
      "(85240, 3)\n"
     ]
    }
   ],
   "source": [
    "red_image = red_image[red_image.sum(axis=(1)) != 0]/255\n",
    "print(red_image.shape)"
   ]
  },
  {
   "cell_type": "code",
   "execution_count": 22,
   "metadata": {},
   "outputs": [],
   "source": [
    "# plot in 3D visualization just to see points\n",
    "from mpl_toolkits.mplot3d import Axes3D\n",
    "\n",
    "fig = plt.figure()\n",
    "ax = fig.add_subplot(111, projection = '3d')\n",
    "\n",
    "reds = redBarrelRGBs[:,0]\n",
    "greens = redBarrelRGBs[:,1]\n",
    "blues = redBarrelRGBs[:,2]\n",
    "ax.scatter(reds, greens, blues, c='red', alpha=0.01)\n",
    "ax.view_init(elev=55.0, azim=70.0)\n",
    "\n",
    "ax.set_xlabel('R')\n",
    "ax.set_ylabel('G')\n",
    "ax.set_zlabel('B')\n",
    "\n",
    "plt.show()"
   ]
  },
  {
   "cell_type": "code",
   "execution_count": 21,
   "metadata": {},
   "outputs": [],
   "source": [
    "fig2 = plt.figure()\n",
    "ax = fig2.add_subplot(111, projection = '3d')\n",
    "\n",
    "reds = nonRedBarrelRGBs[:,0]\n",
    "greens = nonRedBarrelRGBs[:,1]\n",
    "blues = nonRedBarrelRGBs[:,2]\n",
    "ax.scatter(reds, greens, blues, c='gray', alpha=0.01)\n",
    "ax.view_init(elev=55.0, azim=70.0)\n",
    "\n",
    "ax.set_xlabel('R')\n",
    "ax.set_ylabel('G')\n",
    "ax.set_zlabel('B')\n",
    "\n",
    "plt.show()"
   ]
  },
  {
   "source": [
    "## 1.2 Using HSV points from Mask Generator"
   ],
   "cell_type": "markdown",
   "metadata": {}
  },
  {
   "cell_type": "code",
   "execution_count": 3,
   "metadata": {},
   "outputs": [],
   "source": [
    "HSVPoints = np.load('hsvPoints.npy')"
   ]
  },
  {
   "cell_type": "code",
   "execution_count": 4,
   "metadata": {},
   "outputs": [],
   "source": [
    "testImagesRGB = np.zeros((11,900,1200,3))\n",
    "\n",
    "testImagesRGB[0] = cv2.cvtColor( cv2.imread('ECE5242Proj1-train/2.8.png', 1) , cv2.COLOR_BGR2RGB )\n",
    "testImagesRGB[1] = cv2.cvtColor( cv2.imread('ECE5242Proj1-train/2.14.png', 1) , cv2.COLOR_BGR2RGB )\n",
    "testImagesRGB[2] = cv2.cvtColor( cv2.imread('ECE5242Proj1-train/3.11.png', 1) , cv2.COLOR_BGR2RGB )\n",
    "testImagesRGB[3] = cv2.cvtColor( cv2.imread('ECE5242Proj1-train/4.10.png', 1) , cv2.COLOR_BGR2RGB )\n",
    "testImagesRGB[4] = cv2.cvtColor( cv2.imread('ECE5242Proj1-train/5.11.png', 1) , cv2.COLOR_BGR2RGB )\n",
    "testImagesRGB[5] = cv2.cvtColor( cv2.imread('ECE5242Proj1-train/6.8.png', 1) , cv2.COLOR_BGR2RGB )\n",
    "testImagesRGB[6] = cv2.cvtColor( cv2.imread('ECE5242Proj1-train/7.6.png', 1) , cv2.COLOR_BGR2RGB )\n",
    "testImagesRGB[7] = cv2.cvtColor( cv2.imread('ECE5242Proj1-train/8.5.png', 1) , cv2.COLOR_BGR2RGB )\n",
    "testImagesRGB[8] = cv2.cvtColor( cv2.imread('ECE5242Proj1-train/9.3.png', 1) , cv2.COLOR_BGR2RGB )\n",
    "testImagesRGB[9] = cv2.cvtColor( cv2.imread('ECE5242Proj1-train/10.1.png', 1) , cv2.COLOR_BGR2RGB )\n",
    "testImagesRGB[10] = cv2.cvtColor( cv2.imread('ECE5242Proj1-train/14.png', 1) , cv2.COLOR_BGR2RGB )\n",
    "\n",
    "testImagesHSV = np.zeros((11,900,1200,3))\n",
    "\n",
    "testImagesHSV[0] = cv2.cvtColor( cv2.imread('ECE5242Proj1-train/2.8.png', 1) , cv2.COLOR_BGR2HSV )\n",
    "testImagesHSV[1] = cv2.cvtColor( cv2.imread('ECE5242Proj1-train/2.14.png', 1) , cv2.COLOR_BGR2HSV )\n",
    "testImagesHSV[2] = cv2.cvtColor( cv2.imread('ECE5242Proj1-train/3.11.png', 1) , cv2.COLOR_BGR2HSV )\n",
    "testImagesHSV[3] = cv2.cvtColor( cv2.imread('ECE5242Proj1-train/4.10.png', 1) , cv2.COLOR_BGR2HSV )\n",
    "testImagesHSV[4] = cv2.cvtColor( cv2.imread('ECE5242Proj1-train/5.11.png', 1) , cv2.COLOR_BGR2HSV )\n",
    "testImagesHSV[5] = cv2.cvtColor( cv2.imread('ECE5242Proj1-train/6.8.png', 1) , cv2.COLOR_BGR2HSV )\n",
    "testImagesHSV[6] = cv2.cvtColor( cv2.imread('ECE5242Proj1-train/7.6.png', 1) , cv2.COLOR_BGR2HSV )\n",
    "testImagesHSV[7] = cv2.cvtColor( cv2.imread('ECE5242Proj1-train/8.5.png', 1) , cv2.COLOR_BGR2HSV )\n",
    "testImagesHSV[8] = cv2.cvtColor( cv2.imread('ECE5242Proj1-train/9.3.png', 1) , cv2.COLOR_BGR2HSV )\n",
    "testImagesHSV[9] = cv2.cvtColor( cv2.imread('ECE5242Proj1-train/10.1.png', 1) , cv2.COLOR_BGR2HSV )\n",
    "testImagesHSV[10] = cv2.cvtColor( cv2.imread('ECE5242Proj1-train/14.png', 1) , cv2.COLOR_BGR2HSV )"
   ]
  },
  {
   "source": [
    "# 2 Learning Algorithms"
   ],
   "cell_type": "markdown",
   "metadata": {}
  },
  {
   "source": [
    "## Simple Gaussian"
   ],
   "cell_type": "markdown",
   "metadata": {}
  },
  {
   "cell_type": "code",
   "execution_count": 5,
   "metadata": {},
   "outputs": [],
   "source": [
    "def muCalculator(pointsArray):\n",
    "    mu = np.mean(pointsArray, axis=0)\n",
    "    return mu"
   ]
  },
  {
   "cell_type": "code",
   "execution_count": 6,
   "metadata": {},
   "outputs": [],
   "source": [
    "def sigmaCovCalculator(pointsArray):\n",
    "    mu = muCalculator(pointsArray)\n",
    "    sigma = (1/pointsArray.shape[0]) * np.dot((pointsArray - mu).T , (pointsArray - mu))\n",
    "    return sigma"
   ]
  },
  {
   "cell_type": "code",
   "execution_count": 7,
   "metadata": {},
   "outputs": [],
   "source": [
    "def gaussian(pointsArray, mu, sigma):\n",
    "    gaussian = np.zeros((pointsArray.shape[0],1))\n",
    "    for pointIndex, point in enumerate(pointsArray):\n",
    "        difference = (point-mu).T\n",
    "        multiplier = 1/ ( math.pow((2*math.pi),(3/2)) * (math.pow( np.linalg.det(sigma) , (1/2) ) ) )\n",
    "        exponent = math.exp(-0.5 * np.dot(np.dot( difference.T, np.linalg.inv(sigma)), difference ))\n",
    "        output = multiplier * exponent\n",
    "        gaussian[pointIndex] = output\n",
    "    return gaussian"
   ]
  },
  {
   "cell_type": "code",
   "execution_count": null,
   "metadata": {},
   "outputs": [],
   "source": [
    "## show how effective it is with simple gaussian\n",
    "\n",
    "simpleGaussianOuptut = gaussian(red_image, muCalculator(red_image), sigmaCovCalculator(red_image))"
   ]
  },
  {
   "source": [
    "## Gaussian Mixed Model"
   ],
   "cell_type": "markdown",
   "metadata": {}
  },
  {
   "cell_type": "code",
   "execution_count": null,
   "metadata": {},
   "outputs": [],
   "source": [
    "## do we want to simplify covariance by doing a simpler gaussian? Restrict the sigmas... axis of line gaussian, diagonal covariance matrices, spherical covariance matricies\n",
    "## can also simplify model by doing 1/k for each weight"
   ]
  },
  {
   "cell_type": "code",
   "execution_count": 8,
   "metadata": {},
   "outputs": [],
   "source": [
    "def clusterInitialization(pointsArray, k):\n",
    "    # clusters = np.asarray([]) #should have mean (clusters[k][0]) and covariance (clusters[k][1]) attached\n",
    "    clusters = np.asarray([])\n",
    "    mean = np.mean(pointsArray, axis=0)\n",
    "    for cluster in range(k):\n",
    "        mu = mean + np.random.normal(0,0.01,3)\n",
    "        sigma = np.identity(3)\n",
    "        clusters = np.append(clusters, {\"mu\": mu, \"sigma\": sigma})\n",
    "    return clusters"
   ]
  },
  {
   "cell_type": "code",
   "execution_count": 9,
   "metadata": {},
   "outputs": [],
   "source": [
    "def expectation(pointsArray, clusters):\n",
    "    den = np.zeros((pointsArray.shape[0],1))\n",
    "\n",
    "    for cluster in clusters:\n",
    "        z = gaussian(pointsArray, cluster[\"mu\"], cluster[\"sigma\"])\n",
    "        for i in range(pointsArray.shape[0]):\n",
    "            den[i] += z[i]\n",
    "        cluster[\"z\"] = z\n",
    "        cluster[\"den\"] = den\n",
    "    \n",
    "    for clusterIndex, cluster in enumerate(clusters):\n",
    "        cluster[\"z\"] /= den"
   ]
  },
  {
   "cell_type": "code",
   "execution_count": 10,
   "metadata": {},
   "outputs": [],
   "source": [
    "def maximization(pointsArray, clusters):\n",
    "    for cluster in clusters:\n",
    "        z = np.sum(cluster[\"z\"], axis=0)\n",
    "        mu = (1/z) * np.sum(cluster[\"z\"] * pointsArray, axis = 0)\n",
    "\n",
    "        cov = np.zeros((pointsArray.shape[1],pointsArray.shape[1]))\n",
    "        for i in range(pointsArray.shape[0]):\n",
    "            difference = (pointsArray[i] - mu).reshape(-1,1)\n",
    "            cov_i = cluster[\"z\"][i] * np.dot(difference, difference.T)\n",
    "            cov = cov + cov_i\n",
    "        sigma = (1/z) * cov\n",
    "        \n",
    "        cluster[\"mu\"] = mu\n",
    "        cluster[\"sigma\"] = sigma"
   ]
  },
  {
   "cell_type": "code",
   "execution_count": 11,
   "metadata": {},
   "outputs": [],
   "source": [
    "def logLikelihood(clusters):\n",
    "    likelihoods = np.log(np.array([cluster[\"den\"] for cluster in clusters]))\n",
    "    likelihoodsSum = np.sum(likelihoods)\n",
    "    return likelihoodsSum, likelihoods"
   ]
  },
  {
   "cell_type": "code",
   "execution_count": 12,
   "metadata": {},
   "outputs": [],
   "source": [
    "def train_GMM(redPointsArray, k, emIterations):\n",
    "    clusters = clusterInitialization(redPointsArray, k)\n",
    "    likelihoodsArray = np.zeros((emIterations, ))\n",
    "    history = []\n",
    "\n",
    "    for i in range(emIterations):\n",
    "        clusters_record = []\n",
    "        for cluster in clusters:\n",
    "            clusters_record.append(\n",
    "                {\"mu\": cluster[\"mu\"].copy(),\n",
    "                \"sigma\": cluster[\"sigma\"].copy()})\n",
    "        history.append(clusters_record)\n",
    "\n",
    "        expectation(redPointsArray, clusters)\n",
    "        maximization(redPointsArray, clusters)\n",
    "\n",
    "        likelihoodsSum, likelihoods = logLikelihood(clusters)\n",
    "        likelihoodsArray[i] = likelihoodsSum\n",
    "\n",
    "        print(\"emIteration: \", i+1, \"likelihoodsSum: \", likelihoodsSum)\n",
    "\n",
    "    return clusters, likelihoodsArray, history"
   ]
  },
  {
   "cell_type": "code",
   "execution_count": null,
   "metadata": {},
   "outputs": [],
   "source": [
    "# testing for number of GMMs"
   ]
  },
  {
   "cell_type": "code",
   "execution_count": 13,
   "metadata": {},
   "outputs": [
    {
     "output_type": "stream",
     "name": "stdout",
     "text": [
      "emIteration:  1 likelihoodsSum:  -2889351.461709732\n",
      "emIteration:  2 likelihoodsSum:  3357455.0595450783\n",
      "emIteration:  3 likelihoodsSum:  3357474.730666676\n",
      "emIteration:  4 likelihoodsSum:  3358002.795151293\n",
      "emIteration:  5 likelihoodsSum:  3374826.927578327\n",
      "emIteration:  6 likelihoodsSum:  3515039.151140819\n",
      "emIteration:  7 likelihoodsSum:  3739317.736755443\n"
     ]
    }
   ],
   "source": [
    "clusters, likelihoodsArray, history = train_GMM(HSVPoints, 3, 7)"
   ]
  },
  {
   "cell_type": "code",
   "execution_count": 15,
   "metadata": {},
   "outputs": [
    {
     "output_type": "execute_result",
     "data": {
      "text/plain": [
       "[[{'mu': array([0.58780253, 0.7447029 , 0.67631085]),\n",
       "   'sigma': array([[1., 0., 0.],\n",
       "          [0., 1., 0.],\n",
       "          [0., 0., 1.]])},\n",
       "  {'mu': array([0.58665018, 0.74328876, 0.6597357 ]),\n",
       "   'sigma': array([[1., 0., 0.],\n",
       "          [0., 1., 0.],\n",
       "          [0., 0., 1.]])},\n",
       "  {'mu': array([0.58187183, 0.74755552, 0.67379614]),\n",
       "   'sigma': array([[1., 0., 0.],\n",
       "          [0., 1., 0.],\n",
       "          [0., 0., 1.]])}],\n",
       " [{'mu': array([0.57720382, 0.74678462, 0.67256418]),\n",
       "   'sigma': array([[ 0.06791526,  0.0044519 , -0.00461021],\n",
       "          [ 0.0044519 ,  0.00976644, -0.00528649],\n",
       "          [-0.00461021, -0.00528649,  0.05392756]])},\n",
       "  {'mu': array([0.57719562, 0.74685315, 0.67168248]),\n",
       "   'sigma': array([[ 0.06791674,  0.00444682, -0.00460296],\n",
       "          [ 0.00444682,  0.00976073, -0.00526804],\n",
       "          [-0.00460296, -0.00526804,  0.05400186]])},\n",
       "  {'mu': array([0.57682484, 0.74679935, 0.67244084]),\n",
       "   'sigma': array([[ 0.06808727,  0.00445631, -0.00462004],\n",
       "          [ 0.00445631,  0.00976778, -0.00528496],\n",
       "          [-0.00462004, -0.00528496,  0.05393884]])}],\n",
       " [{'mu': array([0.5773953 , 0.74678759, 0.6726037 ]),\n",
       "   'sigma': array([[ 0.06782842,  0.00445596, -0.0046092 ],\n",
       "          [ 0.00445596,  0.0097692 , -0.00529724],\n",
       "          [-0.0046092 , -0.00529724,  0.05390431]])},\n",
       "  {'mu': array([0.5774046 , 0.74688805, 0.67157962]),\n",
       "   'sigma': array([[ 0.06782198,  0.00443326, -0.00458841],\n",
       "          [ 0.00443326,  0.009739  , -0.005245  ],\n",
       "          [-0.00458841, -0.005245  ,  0.05403561]])},\n",
       "  {'mu': array([0.57642436, 0.74676148, 0.67250422]),\n",
       "   'sigma': array([[ 0.06826833,  0.00446576, -0.0046354 ],\n",
       "          [ 0.00446576,  0.00978675, -0.00529722],\n",
       "          [-0.0046354 , -0.00529722,  0.05392815]])}],\n",
       " [{'mu': array([0.57787503, 0.7467841 , 0.67268458]),\n",
       "   'sigma': array([[ 0.06760988,  0.00446497, -0.00460295],\n",
       "          [ 0.00446497,  0.00977296, -0.00531254],\n",
       "          [-0.00460295, -0.00531254,  0.05387812]])},\n",
       "  {'mu': array([0.57808838, 0.74717587, 0.67130917]),\n",
       "   'sigma': array([[ 0.0675205 ,  0.00435313, -0.00454207],\n",
       "          [ 0.00435313,  0.00960219, -0.0051828 ],\n",
       "          [-0.00454207, -0.0051828 ,  0.05405115]])},\n",
       "  {'mu': array([0.57526086, 0.74647715, 0.6726938 ]),\n",
       "   'sigma': array([[ 0.06878403,  0.00453599, -0.00468685],\n",
       "          [ 0.00453599,  0.00991956, -0.00534369],\n",
       "          [-0.00468685, -0.00534369,  0.05393817]])}],\n",
       " [{'mu': array([0.57915883, 0.74691532, 0.67275395]),\n",
       "   'sigma': array([[ 0.06703024,  0.00444366, -0.00456757],\n",
       "          [ 0.00444366,  0.00969152, -0.00530768],\n",
       "          [-0.00456757, -0.00530768,  0.05383218]])},\n",
       "  {'mu': array([0.58080474, 0.74910396, 0.67051756]),\n",
       "   'sigma': array([[ 0.0663488 ,  0.00383576, -0.0043327 ],\n",
       "          [ 0.00383576,  0.00873744, -0.00492039],\n",
       "          [-0.0043327 , -0.00492039,  0.05392556]])},\n",
       "  {'mu': array([0.57126143, 0.74441778, 0.67341633]),\n",
       "   'sigma': array([[ 0.07048796,  0.00505295, -0.00492081],\n",
       "          [ 0.00505295,  0.01085501, -0.00560478],\n",
       "          [-0.00492081, -0.00560478,  0.0541063 ]])}],\n",
       " [{'mu': array([0.58444432, 0.75054574, 0.67180344]),\n",
       "   'sigma': array([[ 0.06475667,  0.00340802, -0.00416746],\n",
       "          [ 0.00340802,  0.00776316, -0.00477408],\n",
       "          [-0.00416746, -0.00477408,  0.05347975]])},\n",
       "  {'mu': array([0.59145517, 0.75692599, 0.66847011]),\n",
       "   'sigma': array([[ 0.06155578,  0.00170781, -0.00353271],\n",
       "          [ 0.00170781,  0.00586927, -0.00414317],\n",
       "          [-0.00353271, -0.00414317,  0.05316906]])},\n",
       "  {'mu': array([0.55516611, 0.73284902, 0.67646042]),\n",
       "   'sigma': array([[ 0.07693442,  0.00779005, -0.00599479],\n",
       "          [ 0.00779005,  0.01539304, -0.00683591],\n",
       "          [-0.00599479, -0.00683591,  0.05519596]])}],\n",
       " [{'mu': array([0.60169914, 0.76051143, 0.66965109]),\n",
       "   'sigma': array([[ 0.05661341,  0.00038241, -0.00310609],\n",
       "          [ 0.00038241,  0.00481286, -0.00398285],\n",
       "          [-0.00310609, -0.00398285,  0.05234021]])},\n",
       "  {'mu': array([0.61348927, 0.76765661, 0.66732394]),\n",
       "   'sigma': array([[ 0.05056114, -0.00087116, -0.0021311 ],\n",
       "          [-0.00087116,  0.00349765, -0.00373375],\n",
       "          [-0.0021311 , -0.00373375,  0.05166902]])},\n",
       "  {'mu': array([0.50855172, 0.70801442, 0.68066592]),\n",
       "   'sigma': array([[ 0.09341391,  0.01107469, -0.00824036],\n",
       "          [ 0.01107469,  0.02011658, -0.00797594],\n",
       "          [-0.00824036, -0.00797594,  0.05822858]])}]]"
      ]
     },
     "metadata": {},
     "execution_count": 15
    }
   ],
   "source": [
    "history"
   ]
  },
  {
   "cell_type": "code",
   "execution_count": 16,
   "metadata": {},
   "outputs": [
    {
     "output_type": "stream",
     "name": "stdout",
     "text": [
      "emIteration:  1 likelihoodsSum:  -2379188.1983924625\n",
      "emIteration:  2 likelihoodsSum:  1785309.829404751\n",
      "emIteration:  3 likelihoodsSum:  1785540.6678579182\n",
      "emIteration:  4 likelihoodsSum:  1793528.2182930126\n",
      "emIteration:  5 likelihoodsSum:  1859315.0222701218\n",
      "emIteration:  6 likelihoodsSum:  1973009.5122277504\n",
      "emIteration:  7 likelihoodsSum:  2072798.3931222847\n"
     ]
    }
   ],
   "source": [
    "clusters, likelihoodsArray, history = train_GMM(HSVPoints, 2, 7)"
   ]
  },
  {
   "cell_type": "code",
   "execution_count": 18,
   "metadata": {},
   "outputs": [
    {
     "output_type": "stream",
     "name": "stdout",
     "text": [
      "emIteration:  1 likelihoodsSum:  -2379224.160074328\n",
      "emIteration:  2 likelihoodsSum:  1785315.758318486\n",
      "emIteration:  3 likelihoodsSum:  1785505.122126888\n",
      "emIteration:  4 likelihoodsSum:  1791463.3136595474\n",
      "emIteration:  5 likelihoodsSum:  1853445.2391817598\n",
      "emIteration:  6 likelihoodsSum:  1990858.4000144969\n",
      "emIteration:  7 likelihoodsSum:  2243673.148530864\n",
      "emIteration:  8 likelihoodsSum:  3647673.8463638956\n",
      "emIteration:  9 likelihoodsSum:  4837147.970206054\n",
      "emIteration:  10 likelihoodsSum:  4893165.5696677845\n",
      "emIteration:  11 likelihoodsSum:  4920095.1676156875\n",
      "emIteration:  12 likelihoodsSum:  4939751.762706778\n",
      "emIteration:  13 likelihoodsSum:  4958626.016163501\n",
      "emIteration:  14 likelihoodsSum:  4974304.67717166\n",
      "emIteration:  15 likelihoodsSum:  4985573.5024667885\n",
      "emIteration:  16 likelihoodsSum:  4997323.372385021\n",
      "emIteration:  17 likelihoodsSum:  5017281.354893607\n",
      "emIteration:  18 likelihoodsSum:  5048812.951268961\n",
      "emIteration:  19 likelihoodsSum:  5090307.017329614\n",
      "emIteration:  20 likelihoodsSum:  5108260.170376485\n",
      "emIteration:  21 likelihoodsSum:  5110204.177288289\n",
      "emIteration:  22 likelihoodsSum:  5110550.933496347\n",
      "emIteration:  23 likelihoodsSum:  5110585.561307623\n",
      "emIteration:  24 likelihoodsSum:  5110591.655755784\n",
      "emIteration:  25 likelihoodsSum:  5110597.7613348365\n",
      "emIteration:  26 likelihoodsSum:  5110602.219203559\n",
      "emIteration:  27 likelihoodsSum:  5110603.069324635\n",
      "emIteration:  28 likelihoodsSum:  5110603.10568719\n",
      "emIteration:  29 likelihoodsSum:  5110603.1064662365\n",
      "emIteration:  30 likelihoodsSum:  5110603.106480723\n"
     ]
    }
   ],
   "source": [
    "clusters, likelihoodsArray, history = train_GMM(HSVPoints, 2, 30)"
   ]
  },
  {
   "cell_type": "code",
   "execution_count": 21,
   "metadata": {},
   "outputs": [],
   "source": [
    "plt.figure(figsize=(10,10))\n",
    "plt.title('Log Likelihood')\n",
    "plt.plot(np.arange(1, 31), likelihoodsArray)\n",
    "plt.xlabel(\"EM Iterations\")\n",
    "plt.ylabel(\"Log Likelihoods Sum\")\n",
    "plt.show()"
   ]
  },
  {
   "cell_type": "code",
   "execution_count": 22,
   "metadata": {},
   "outputs": [
    {
     "output_type": "execute_result",
     "data": {
      "text/plain": [
       "array([-2379224.16007433,  1785315.75831849,  1785505.12212689,\n",
       "        1791463.31365955,  1853445.23918176,  1990858.4000145 ,\n",
       "        2243673.14853086,  3647673.8463639 ,  4837147.97020605,\n",
       "        4893165.56966778,  4920095.16761569,  4939751.76270678,\n",
       "        4958626.0161635 ,  4974304.67717166,  4985573.50246679,\n",
       "        4997323.37238502,  5017281.35489361,  5048812.95126896,\n",
       "        5090307.01732961,  5108260.17037649,  5110204.17728829,\n",
       "        5110550.93349635,  5110585.56130762,  5110591.65575578,\n",
       "        5110597.76133484,  5110602.21920356,  5110603.06932463,\n",
       "        5110603.10568719,  5110603.10646624,  5110603.10648072])"
      ]
     },
     "metadata": {},
     "execution_count": 22
    }
   ],
   "source": [
    "likelihoodsArray"
   ]
  },
  {
   "cell_type": "code",
   "execution_count": 13,
   "metadata": {},
   "outputs": [],
   "source": [
    "def calculateGMMProbabilities(inputImage, clusters):\n",
    "    GMMOutput = np.zeros((inputImage.shape[0], 1))\n",
    "    for cluster in clusters:\n",
    "        simpleGaussianOutput = gaussian(inputImage, cluster[\"mu\"], cluster[\"sigma\"])\n",
    "        # print(np.sum(simpleGaussianOutput))\n",
    "        GMMOutput = GMMOutput + ((1/clusters.shape[0]) * simpleGaussianOutput)\n",
    "    return GMMOutput"
   ]
  },
  {
   "source": [
    "# Testing Image"
   ],
   "cell_type": "markdown",
   "metadata": {}
  },
  {
   "source": [
    "## Applying Test Image"
   ],
   "cell_type": "markdown",
   "metadata": {}
  },
  {
   "cell_type": "code",
   "execution_count": 179,
   "metadata": {},
   "outputs": [],
   "source": [
    "# run with all the test images to get ratio for distance calc\n",
    "ratios = np.array([])"
   ]
  },
  {
   "cell_type": "code",
   "execution_count": 377,
   "metadata": {},
   "outputs": [
    {
     "output_type": "error",
     "ename": "IndexError",
     "evalue": "index 11 is out of bounds for axis 0 with size 11",
     "traceback": [
      "\u001b[0;31m---------------------------------------------------------------------------\u001b[0m",
      "\u001b[0;31mIndexError\u001b[0m                                Traceback (most recent call last)",
      "\u001b[0;32m<ipython-input-377-1d6eab02882a>\u001b[0m in \u001b[0;36m<module>\u001b[0;34m\u001b[0m\n\u001b[1;32m      1\u001b[0m \u001b[0;31m# make sure the input image is reshaped and normalized\u001b[0m\u001b[0;34m\u001b[0m\u001b[0;34m\u001b[0m\u001b[0;34m\u001b[0m\u001b[0m\n\u001b[0;32m----> 2\u001b[0;31m \u001b[0minput_image\u001b[0m \u001b[0;34m=\u001b[0m \u001b[0mtestImagesHSV\u001b[0m\u001b[0;34m[\u001b[0m\u001b[0;36m11\u001b[0m\u001b[0;34m]\u001b[0m\u001b[0;34m.\u001b[0m\u001b[0mreshape\u001b[0m\u001b[0;34m(\u001b[0m\u001b[0;36m900\u001b[0m\u001b[0;34m*\u001b[0m\u001b[0;36m1200\u001b[0m\u001b[0;34m,\u001b[0m \u001b[0;36m3\u001b[0m\u001b[0;34m)\u001b[0m\u001b[0;34m\u001b[0m\u001b[0;34m\u001b[0m\u001b[0m\n\u001b[0m\u001b[1;32m      3\u001b[0m \u001b[0minput_image\u001b[0m \u001b[0;34m=\u001b[0m \u001b[0minput_image\u001b[0m\u001b[0;34m[\u001b[0m\u001b[0minput_image\u001b[0m\u001b[0;34m.\u001b[0m\u001b[0msum\u001b[0m\u001b[0;34m(\u001b[0m\u001b[0maxis\u001b[0m\u001b[0;34m=\u001b[0m\u001b[0;34m(\u001b[0m\u001b[0;36m1\u001b[0m\u001b[0;34m)\u001b[0m\u001b[0;34m)\u001b[0m \u001b[0;34m!=\u001b[0m \u001b[0;36m0\u001b[0m\u001b[0;34m]\u001b[0m\u001b[0;34m/\u001b[0m\u001b[0;36m255\u001b[0m\u001b[0;34m\u001b[0m\u001b[0;34m\u001b[0m\u001b[0m\n\u001b[1;32m      4\u001b[0m \u001b[0;34m\u001b[0m\u001b[0m\n\u001b[1;32m      5\u001b[0m \u001b[0;31m# do the same to RGB version for plotting later\u001b[0m\u001b[0;34m\u001b[0m\u001b[0;34m\u001b[0m\u001b[0;34m\u001b[0m\u001b[0m\n",
      "\u001b[0;31mIndexError\u001b[0m: index 11 is out of bounds for axis 0 with size 11"
     ]
    }
   ],
   "source": [
    "# make sure the input image is reshaped and normalized\n",
    "input_image = testImagesHSV[11].reshape(900*1200, 3)\n",
    "input_image = input_image[input_image.sum(axis=(1)) != 0]/255\n",
    "\n",
    "# do the same to RGB version for plotting later\n",
    "input_image_RGB = testImagesRGB[11].reshape(900*1200, 3)\n",
    "input_image_RGB = input_image_RGB[input_image_RGB.sum(axis=(1)) != 0]/255\n",
    "\n",
    "GMMOutput = calculateGMMProbabilities(input_image, clusters)\n",
    "\n",
    "plt.imshow(GMMOutput.reshape(900,1200))"
   ]
  },
  {
   "cell_type": "code",
   "execution_count": 369,
   "metadata": {},
   "outputs": [],
   "source": [
    "# image erosion and dilation\n",
    "kernel = cv2.getStructuringElement(cv2.MORPH_RECT,(5,5))\n",
    "GMMOutput = np.uint8(GMMOutput)\n",
    "\n",
    "# GMMOutput = cv2.erode(GMMOutput, kernel, iterations = 3)\n",
    "# # GMMOutput = cv2.morphologyEx(GMMOutput, cv2.MORPH_CLOSE, kernel)\n",
    "# GMMOutput = cv2.dilate(GMMOutput, kernel, iterations = 3)\n",
    "\n",
    "# plt.imshow(GMMOutput.reshape(900,1200))"
   ]
  },
  {
   "cell_type": "code",
   "execution_count": 370,
   "metadata": {},
   "outputs": [
    {
     "output_type": "execute_result",
     "data": {
      "text/plain": [
       "<matplotlib.image.AxesImage at 0x7fed67983430>"
      ]
     },
     "metadata": {},
     "execution_count": 370
    }
   ],
   "source": [
    "GMMOutput = cv2.erode(GMMOutput, kernel, iterations = 1)\n",
    "plt.imshow(GMMOutput.reshape(900,1200))"
   ]
  },
  {
   "cell_type": "code",
   "execution_count": 371,
   "metadata": {},
   "outputs": [
    {
     "output_type": "execute_result",
     "data": {
      "text/plain": [
       "<matplotlib.image.AxesImage at 0x7fed9392a700>"
      ]
     },
     "metadata": {},
     "execution_count": 371
    }
   ],
   "source": [
    "kernel = cv2.getStructuringElement(cv2.MORPH_RECT,(5,5))\n",
    "GMMOutput = cv2.dilate(GMMOutput, kernel, iterations = 1)\n",
    "\n",
    "plt.imshow(GMMOutput.reshape(900,1200))"
   ]
  },
  {
   "cell_type": "code",
   "execution_count": 372,
   "metadata": {},
   "outputs": [
    {
     "output_type": "execute_result",
     "data": {
      "text/plain": [
       "<matplotlib.image.AxesImage at 0x7fed84a5b8e0>"
      ]
     },
     "metadata": {},
     "execution_count": 372
    }
   ],
   "source": [
    "# replace image with binary (1,0) for white and black\n",
    "GMMOutput = np.where( GMMOutput > 0.99, 1, 0)\n",
    "plt.imshow(GMMOutput.reshape(900,1200))"
   ]
  },
  {
   "cell_type": "code",
   "execution_count": 373,
   "metadata": {},
   "outputs": [
    {
     "output_type": "execute_result",
     "data": {
      "text/plain": [
       "<matplotlib.image.AxesImage at 0x7fed952fa4f0>"
      ]
     },
     "metadata": {},
     "execution_count": 373
    }
   ],
   "source": [
    "# plot labels on gray\n",
    "label_img = label(GMMOutput.reshape(900,1200), connectivity=2)\n",
    "plt.imshow(label_img, cmap='gray')"
   ]
  },
  {
   "cell_type": "code",
   "execution_count": 390,
   "metadata": {},
   "outputs": [
    {
     "output_type": "stream",
     "name": "stdout",
     "text": [
      "1134\n(195, 600, 239, 627)\n(216.69223985890653, 613.1640211640212)\n"
     ]
    }
   ],
   "source": [
    "# PUTS A BOUNDING BOX AROUND BARRELL\n",
    "# distance = 14\n",
    "\n",
    "fig, ax = plt.subplots(figsize=(10, 6))\n",
    "ax.imshow(input_image_RGB.reshape(900, 1200, 3))\n",
    "# regionsArray = []\n",
    "for region in regionprops(label_img):\n",
    "    if region.area >= 1200:\n",
    "        bboxAspect = (region.bbox[2]-region.bbox[0])/(region.bbox[3]-region.bbox[1])\n",
    "        if (bboxAspect > 1.0325 and bboxAspect < 1.9528):\n",
    "            # regionsArray.append(region)\n",
    "            print(region.area)\n",
    "            print(region.bbox)\n",
    "            minr, minc, maxr, maxc = region.bbox\n",
    "            rect = mpatches.Rectangle((minc, minr), maxc - minc, maxr - minr,\n",
    "                                    fill=False, edgecolor='green', linewidth=2)\n",
    "            ax.add_patch(rect)\n",
    "            ratio = 493.0884217183345\n",
    "            barrelDistance = str( round(ratio/ math.sqrt(region.area) , 2)) + 'm'\n",
    "\n",
    "            print(region.centroid)\n",
    "            plt.annotate(barrelDistance, (region.centroid[1], region.centroid[0]), color='white')\n",
    "\n",
    "            # # calculating distance\n",
    "            # # True Distance * sqrt(region.area) gives a ratio\n",
    "            # ratio = math.sqrt(region.area) * distance\n",
    "            # print(ratio)\n",
    "            # ratios = np.append(ratios, ratio)\n",
    "\n",
    "            # now with distance ratio calculated (493.0884217183345), appending distance\n",
    "\n",
    "plt.show()"
   ]
  },
  {
   "cell_type": "code",
   "execution_count": 376,
   "metadata": {},
   "outputs": [
    {
     "output_type": "execute_result",
     "data": {
      "text/plain": [
       "array([524.00763353, 551.43721311, 488.26222463, 498.14656478,\n",
       "       519.54595562, 502.10058753, 532.22551611, 491.63401021,\n",
       "       453.10043037, 370.42408129])"
      ]
     },
     "metadata": {},
     "execution_count": 376
    }
   ],
   "source": [
    "ratios"
   ]
  },
  {
   "cell_type": "code",
   "execution_count": 344,
   "metadata": {},
   "outputs": [],
   "source": [
    "ratios = np.delete(ratios, 7)"
   ]
  },
  {
   "cell_type": "code",
   "execution_count": 378,
   "metadata": {},
   "outputs": [],
   "source": [
    "ratiosMean = np.mean(ratios)"
   ]
  },
  {
   "cell_type": "code",
   "execution_count": 379,
   "metadata": {},
   "outputs": [
    {
     "output_type": "execute_result",
     "data": {
      "text/plain": [
       "493.0884217183345"
      ]
     },
     "metadata": {},
     "execution_count": 379
    }
   ],
   "source": [
    "ratiosMean"
   ]
  },
  {
   "source": [
    "## Future Optimizations"
   ],
   "cell_type": "markdown",
   "metadata": {}
  },
  {
   "cell_type": "code",
   "execution_count": null,
   "metadata": {},
   "outputs": [],
   "source": [
    "# TO DO: \n",
    "# optimize this with row dialation (region props)\n",
    "# cv2 erode & dialate?"
   ]
  },
  {
   "cell_type": "code",
   "execution_count": null,
   "metadata": {},
   "outputs": [],
   "source": [
    "clusters, likelihoodsArray, history = train_GMM(HSVPoints, 2, 9)"
   ]
  },
  {
   "cell_type": "code",
   "execution_count": 393,
   "metadata": {},
   "outputs": [],
   "source": [
    "np.save('clusters.npy', clusters)"
   ]
  },
  {
   "cell_type": "code",
   "execution_count": 394,
   "metadata": {},
   "outputs": [
    {
     "output_type": "execute_result",
     "data": {
      "text/plain": [
       "(2,)"
      ]
     },
     "metadata": {},
     "execution_count": 394
    }
   ],
   "source": [
    "clusters.shape"
   ]
  },
  {
   "cell_type": "code",
   "execution_count": null,
   "metadata": {},
   "outputs": [],
   "source": []
  }
 ]
}