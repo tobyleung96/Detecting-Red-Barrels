{
 "metadata": {
  "language_info": {
   "codemirror_mode": {
    "name": "ipython",
    "version": 3
   },
   "file_extension": ".py",
   "mimetype": "text/x-python",
   "name": "python",
   "nbconvert_exporter": "python",
   "pygments_lexer": "ipython3",
   "version": "3.8.3-final"
  },
  "orig_nbformat": 2,
  "kernelspec": {
   "name": "python3",
   "display_name": "Python 3.8.3 64-bit ('Citadel': conda)",
   "metadata": {
    "interpreter": {
     "hash": "844c3bfd31d2f0ed64a3e852d158656216ff6cfcb1c607d51d913b1c70e40404"
    }
   }
  }
 },
 "nbformat": 4,
 "nbformat_minor": 2,
 "cells": [
  {
   "cell_type": "code",
   "execution_count": 1,
   "metadata": {},
   "outputs": [],
   "source": [
    "%matplotlib qt\n",
    "\n",
    "from matplotlib import pyplot as plt\n",
    "from matplotlib import patches as mpatches\n",
    "import cv2\n",
    "from skimage import data, util\n",
    "from skimage.measure import label, regionprops\n",
    "import numpy as np\n",
    "import math\n",
    "import os"
   ]
  },
  {
   "cell_type": "code",
   "execution_count": 2,
   "metadata": {},
   "outputs": [],
   "source": [
    "def muCalculator(pointsArray):\n",
    "    mu = np.mean(pointsArray, axis=0)\n",
    "    return mu\n",
    "\n",
    "def sigmaCovCalculator(pointsArray):\n",
    "    mu = muCalculator(pointsArray)\n",
    "    sigma = (1/pointsArray.shape[0]) * np.dot((pointsArray - mu).T , (pointsArray - mu))\n",
    "    return sigma\n",
    "\n",
    "def gaussian(pointsArray, mu, sigma):\n",
    "    gaussian = np.zeros((pointsArray.shape[0],1))\n",
    "    for pointIndex, point in enumerate(pointsArray):\n",
    "        difference = (point-mu).T\n",
    "        multiplier = 1/ ( math.pow((2*math.pi),(3/2)) * (math.pow( np.linalg.det(sigma) , (1/2) ) ) )\n",
    "        exponent = math.exp(-0.5 * np.dot(np.dot( difference.T, np.linalg.inv(sigma)), difference ))\n",
    "        output = multiplier * exponent\n",
    "        gaussian[pointIndex] = output\n",
    "    return gaussian\n",
    "\n",
    "def calculateGMMProbabilities(inputImage, clusters):\n",
    "    GMMOutput = np.zeros((inputImage.shape[0], 1))\n",
    "    for cluster in clusters:\n",
    "        simpleGaussianOutput = gaussian(inputImage, cluster[\"mu\"], cluster[\"sigma\"])\n",
    "        GMMOutput = GMMOutput + ((1/clusters.shape[0]) * simpleGaussianOutput)\n",
    "    return GMMOutput"
   ]
  },
  {
   "cell_type": "code",
   "execution_count": 3,
   "metadata": {},
   "outputs": [],
   "source": [
    "clusters = np.load('clusters.npy', allow_pickle=True)"
   ]
  },
  {
   "source": [
    "### Image 001"
   ],
   "cell_type": "markdown",
   "metadata": {}
  },
  {
   "cell_type": "code",
   "execution_count": 13,
   "metadata": {},
   "outputs": [
    {
     "output_type": "stream",
     "name": "stdout",
     "text": [
      "Calculating probabilities for file: 001.png...\n",
      "Conducting image filtering and computations...\n",
      "Test Image Number: 001,  Centroid Row:  641.4728544008774,  Centroid Column:  476.5248423361667,  Distance: 2.58m\n"
     ]
    }
   ],
   "source": [
    "print(\"Calculating probabilities for file: 001.png...\")\n",
    "# Reading images as RGB and HSV\n",
    "img_RGB = cv2.cvtColor( cv2.imread(\"Test_Set/001.png\", 1) , cv2.COLOR_BGR2RGB)\n",
    "img_HSV = cv2.cvtColor( cv2.imread(\"Test_Set/001.png\", 1) , cv2.COLOR_BGR2HSV)\n",
    "img_dim = img_RGB.shape[0]*img_RGB.shape[1]\n",
    "\n",
    "# make sure the input image is reshaped and normalized\n",
    "input_image = img_HSV.reshape(img_dim, 3)\n",
    "input_image = input_image[input_image.sum(axis=(1)) != 0]/255\n",
    "\n",
    "# do the same to RGB version for plotting later\n",
    "input_image_RGB = img_RGB.reshape(img_dim, 3)\n",
    "input_image_RGB = input_image_RGB[input_image_RGB.sum(axis=(1)) != 0]/255\n",
    "\n",
    "# calculate GMM probabilities\n",
    "GMMOutput = calculateGMMProbabilities(input_image, clusters)\n",
    "\n",
    "\n",
    "print(\"Conducting image filtering and computations...\")\n",
    "# image erosion and dilation\n",
    "kernel = cv2.getStructuringElement(cv2.MORPH_RECT,(7,7))\n",
    "GMMOutput = np.float64(GMMOutput)\n",
    "GMMOutput = cv2.erode(GMMOutput, kernel, iterations = 5)\n",
    "GMMOutput = cv2.dilate(GMMOutput, kernel, iterations = 3)\n",
    "\n",
    "# replace image with binary (1,0) for white and black\n",
    "GMMOutput = np.where( GMMOutput > 0.99, 1, 0)\n",
    "\n",
    "# label image with skimage\n",
    "label_img = label(GMMOutput.reshape(img_RGB.shape[0], img_RGB.shape[1]), connectivity=2)\n",
    "\n",
    "# display results\n",
    "fig, ax = plt.subplots(figsize=(10, 6))\n",
    "ax.imshow(input_image_RGB.reshape(img_RGB.shape[0], img_RGB.shape[1], 3))\n",
    "for region in regionprops(label_img):\n",
    "    if region.area >= 1200:\n",
    "        bboxAspect = (region.bbox[2]-region.bbox[0])/(region.bbox[3]-region.bbox[1])\n",
    "        if (bboxAspect > 1.0325 and bboxAspect < 1.9528):\n",
    "            minr, minc, maxr, maxc = region.bbox\n",
    "            rect = mpatches.Rectangle((minc, minr), maxc - minc, maxr - minr, fill=False, edgecolor='green', linewidth=2)\n",
    "            ax.add_patch(rect)\n",
    "            ratio = 493.0884217183345\n",
    "            barrelDistance = str( round(ratio/ math.sqrt(region.area) , 2)) + 'm'\n",
    "            plt.annotate(barrelDistance, (region.centroid[1], region.centroid[0]), color='white')\n",
    "            plt.show()\n",
    "            print(\"Test Image Number: 001\" + \",  Centroid Row:  \" + str(region.centroid[1]) + \",  Centroid Column:  \" + str(region.centroid[0]) + \",  Distance: \" + str(barrelDistance))"
   ]
  },
  {
   "source": [
    "### Image 002"
   ],
   "cell_type": "markdown",
   "metadata": {}
  },
  {
   "cell_type": "code",
   "execution_count": 11,
   "metadata": {},
   "outputs": [
    {
     "output_type": "stream",
     "name": "stdout",
     "text": [
      "Calculating probabilities for file: 002.png...\n",
      "Conducting image filtering and computations...\n"
     ]
    }
   ],
   "source": [
    "print(\"Calculating probabilities for file: 002.png...\")\n",
    "# Reading images as RGB and HSV\n",
    "img_RGB = cv2.cvtColor( cv2.imread(\"Test_Set/002.png\", 1) , cv2.COLOR_BGR2RGB)\n",
    "img_HSV = cv2.cvtColor( cv2.imread(\"Test_Set/002.png\", 1) , cv2.COLOR_BGR2HSV)\n",
    "img_dim = img_RGB.shape[0]*img_RGB.shape[1]\n",
    "\n",
    "# make sure the input image is reshaped and normalized\n",
    "input_image = img_HSV.reshape(img_dim, 3)\n",
    "input_image = input_image[input_image.sum(axis=(1)) != 0]/255\n",
    "\n",
    "# do the same to RGB version for plotting later\n",
    "input_image_RGB = img_RGB.reshape(img_dim, 3)\n",
    "input_image_RGB = input_image_RGB[input_image_RGB.sum(axis=(1)) != 0]/255\n",
    "\n",
    "# calculate GMM probabilities\n",
    "GMMOutput = calculateGMMProbabilities(input_image, clusters)\n",
    "\n",
    "\n",
    "print(\"Conducting image filtering and computations...\")\n",
    "# image erosion and dilation\n",
    "kernel = cv2.getStructuringElement(cv2.MORPH_RECT,(50,50))\n",
    "GMMOutput = np.float64(GMMOutput)\n",
    "GMMOutput = cv2.erode(GMMOutput, kernel, iterations = 1)\n",
    "GMMOutput = cv2.dilate(GMMOutput, kernel, iterations = 55)\n",
    "\n",
    "# replace image with binary (1,0) for white and black\n",
    "GMMOutput = np.where( GMMOutput > 0.99, 1, 0)\n",
    "\n",
    "# label image with skimage\n",
    "label_img = label(GMMOutput.reshape(img_RGB.shape[0], img_RGB.shape[1]), connectivity=2)\n",
    "\n",
    "# display results\n",
    "fig, ax = plt.subplots(figsize=(10, 6))\n",
    "ax.imshow(input_image_RGB.reshape(img_RGB.shape[0], img_RGB.shape[1], 3))\n",
    "for region in regionprops(label_img):\n",
    "    if region.area >= 1200:\n",
    "        bboxAspect = (region.bbox[2]-region.bbox[0])/(region.bbox[3]-region.bbox[1])\n",
    "        if (bboxAspect > 1.0325 and bboxAspect < 1.9528):\n",
    "            minr, minc, maxr, maxc = region.bbox\n",
    "            rect = mpatches.Rectangle((minc, minr), maxc - minc, maxr - minr, fill=False, edgecolor='green', linewidth=2)\n",
    "            ax.add_patch(rect)\n",
    "            ratio = 493.0884217183345\n",
    "            barrelDistance = str( round(ratio/ math.sqrt(region.area) , 2)) + 'm'\n",
    "            plt.annotate(barrelDistance, (region.centroid[1], region.centroid[0]), color='white')\n",
    "            plt.show()\n",
    "            print(\"Test Image Number: 002\" + \",  Centroid Row:  \" + str(region.centroid[1]) + \",  Centroid Column:  \" + str(region.centroid[0]) + \",  Distance: \" + str(barrelDistance))"
   ]
  },
  {
   "source": [
    "### Image 003"
   ],
   "cell_type": "markdown",
   "metadata": {}
  },
  {
   "cell_type": "code",
   "execution_count": 17,
   "metadata": {},
   "outputs": [
    {
     "output_type": "stream",
     "name": "stdout",
     "text": [
      "Calculating probabilities for file: 003.png...\n",
      "Conducting image filtering and computations...\n",
      "Test Image Number: 003,  Centroid Row:  552.8221249502586,  Centroid Column:  386.0112415439713,  Distance: 4.92m\n",
      "Test Image Number: 003,  Centroid Row:  698.2749711268767,  Centroid Column:  449.70678105923116,  Distance: 2.83m\n"
     ]
    }
   ],
   "source": [
    "print(\"Calculating probabilities for file: 003.png...\")\n",
    "# Reading images as RGB and HSV\n",
    "img_RGB = cv2.cvtColor( cv2.imread(\"Test_Set/003.png\", 1) , cv2.COLOR_BGR2RGB)\n",
    "img_HSV = cv2.cvtColor( cv2.imread(\"Test_Set/003.png\", 1) , cv2.COLOR_BGR2HSV)\n",
    "img_dim = img_RGB.shape[0]*img_RGB.shape[1]\n",
    "\n",
    "# make sure the input image is reshaped and normalized\n",
    "input_image = img_HSV.reshape(img_dim, 3)\n",
    "input_image = input_image[input_image.sum(axis=(1)) != 0]/255\n",
    "\n",
    "# do the same to RGB version for plotting later\n",
    "input_image_RGB = img_RGB.reshape(img_dim, 3)\n",
    "input_image_RGB = input_image_RGB[input_image_RGB.sum(axis=(1)) != 0]/255\n",
    "\n",
    "# calculate GMM probabilities\n",
    "GMMOutput = calculateGMMProbabilities(input_image, clusters)\n",
    "\n",
    "\n",
    "print(\"Conducting image filtering and computations...\")\n",
    "# image erosion and dilation\n",
    "kernel = cv2.getStructuringElement(cv2.MORPH_RECT,(7,7))\n",
    "GMMOutput = np.float64(GMMOutput)\n",
    "GMMOutput = cv2.erode(GMMOutput, kernel, iterations = 5)\n",
    "GMMOutput = cv2.dilate(GMMOutput, kernel, iterations = 3)\n",
    "\n",
    "# replace image with binary (1,0) for white and black\n",
    "GMMOutput = np.where( GMMOutput > 0.99, 1, 0)\n",
    "\n",
    "# label image with skimage\n",
    "label_img = label(GMMOutput.reshape(img_RGB.shape[0], img_RGB.shape[1]), connectivity=2)\n",
    "\n",
    "# display results\n",
    "fig, ax = plt.subplots(figsize=(10, 6))\n",
    "ax.imshow(input_image_RGB.reshape(img_RGB.shape[0], img_RGB.shape[1], 3))\n",
    "for region in regionprops(label_img):\n",
    "    if region.area >= 1200:\n",
    "        bboxAspect = (region.bbox[2]-region.bbox[0])/(region.bbox[3]-region.bbox[1])\n",
    "        if (bboxAspect > 1.0325 and bboxAspect < 1.9528):\n",
    "            minr, minc, maxr, maxc = region.bbox\n",
    "            rect = mpatches.Rectangle((minc, minr), maxc - minc, maxr - minr, fill=False, edgecolor='green', linewidth=2)\n",
    "            ax.add_patch(rect)\n",
    "            ratio = 493.0884217183345\n",
    "            barrelDistance = str( round(ratio/ math.sqrt(region.area) , 2)) + 'm'\n",
    "            plt.annotate(barrelDistance, (region.centroid[1], region.centroid[0]), color='white')\n",
    "            plt.show()\n",
    "            print(\"Test Image Number: 003\" + \",  Centroid Row:  \" + str(region.centroid[1]) + \",  Centroid Column:  \" + str(region.centroid[0]) + \",  Distance: \" + str(barrelDistance))"
   ]
  },
  {
   "source": [
    "### Image 004"
   ],
   "cell_type": "markdown",
   "metadata": {}
  },
  {
   "cell_type": "code",
   "execution_count": 21,
   "metadata": {},
   "outputs": [
    {
     "output_type": "stream",
     "name": "stdout",
     "text": [
      "Calculating probabilities for file: 004.png...\n",
      "Conducting image filtering and computations...\n",
      "Test Image Number: 004,  Centroid Row:  632.9548271675932,  Centroid Column:  445.67045769173427,  Distance: 2.28m\n"
     ]
    }
   ],
   "source": [
    "print(\"Calculating probabilities for file: 004.png...\")\n",
    "# Reading images as RGB and HSV\n",
    "img_RGB = cv2.cvtColor( cv2.imread(\"Test_Set/004.png\", 1) , cv2.COLOR_BGR2RGB)\n",
    "img_HSV = cv2.cvtColor( cv2.imread(\"Test_Set/004.png\", 1) , cv2.COLOR_BGR2HSV)\n",
    "img_dim = img_RGB.shape[0]*img_RGB.shape[1]\n",
    "\n",
    "# make sure the input image is reshaped and normalized\n",
    "input_image = img_HSV.reshape(img_dim, 3)\n",
    "input_image = input_image[input_image.sum(axis=(1)) != 0]/255\n",
    "\n",
    "# do the same to RGB version for plotting later\n",
    "input_image_RGB = img_RGB.reshape(img_dim, 3)\n",
    "input_image_RGB = input_image_RGB[input_image_RGB.sum(axis=(1)) != 0]/255\n",
    "\n",
    "# calculate GMM probabilities\n",
    "GMMOutput = calculateGMMProbabilities(input_image, clusters)\n",
    "\n",
    "\n",
    "print(\"Conducting image filtering and computations...\")\n",
    "# image erosion and dilation\n",
    "kernel = cv2.getStructuringElement(cv2.MORPH_RECT,(7,7))\n",
    "GMMOutput = np.float64(GMMOutput)\n",
    "GMMOutput = cv2.erode(GMMOutput, kernel, iterations = 9)\n",
    "GMMOutput = cv2.dilate(GMMOutput, kernel, iterations = 3)\n",
    "\n",
    "# replace image with binary (1,0) for white and black\n",
    "GMMOutput = np.where( GMMOutput > 0.99, 1, 0)\n",
    "\n",
    "# label image with skimage\n",
    "label_img = label(GMMOutput.reshape(img_RGB.shape[0], img_RGB.shape[1]), connectivity=2)\n",
    "\n",
    "# display results\n",
    "fig, ax = plt.subplots(figsize=(10, 6))\n",
    "ax.imshow(input_image_RGB.reshape(img_RGB.shape[0], img_RGB.shape[1], 3))\n",
    "for region in regionprops(label_img):\n",
    "    if region.area >= 1200:\n",
    "        bboxAspect = (region.bbox[2]-region.bbox[0])/(region.bbox[3]-region.bbox[1])\n",
    "        if (bboxAspect > 1.0325 and bboxAspect < 1.9528):\n",
    "            minr, minc, maxr, maxc = region.bbox\n",
    "            rect = mpatches.Rectangle((minc, minr), maxc - minc, maxr - minr, fill=False, edgecolor='green', linewidth=2)\n",
    "            ax.add_patch(rect)\n",
    "            ratio = 493.0884217183345\n",
    "            barrelDistance = str( round(ratio/ math.sqrt(region.area) , 2)) + 'm'\n",
    "            plt.annotate(barrelDistance, (region.centroid[1], region.centroid[0]), color='white')\n",
    "            plt.show()\n",
    "            print(\"Test Image Number: 004\" + \",  Centroid Row:  \" + str(region.centroid[1]) + \",  Centroid Column:  \" + str(region.centroid[0]) + \",  Distance: \" + str(barrelDistance))"
   ]
  },
  {
   "source": [
    "### Image 005"
   ],
   "cell_type": "markdown",
   "metadata": {}
  },
  {
   "cell_type": "code",
   "execution_count": 24,
   "metadata": {},
   "outputs": [
    {
     "output_type": "stream",
     "name": "stdout",
     "text": [
      "Calculating probabilities for file: 005.png...\n",
      "Conducting image filtering and computations...\n",
      "Test Image Number: 005,  Centroid Row:  644.7899686520376,  Centroid Column:  482.00313479623827,  Distance: 9.76m\n"
     ]
    }
   ],
   "source": [
    "print(\"Calculating probabilities for file: 005.png...\")\n",
    "# Reading images as RGB and HSV\n",
    "img_RGB = cv2.cvtColor( cv2.imread(\"Test_Set/005.png\", 1) , cv2.COLOR_BGR2RGB)\n",
    "img_HSV = cv2.cvtColor( cv2.imread(\"Test_Set/005.png\", 1) , cv2.COLOR_BGR2HSV)\n",
    "img_dim = img_RGB.shape[0]*img_RGB.shape[1]\n",
    "\n",
    "# make sure the input image is reshaped and normalized\n",
    "input_image = img_HSV.reshape(img_dim, 3)\n",
    "input_image = input_image[input_image.sum(axis=(1)) != 0]/255\n",
    "\n",
    "# do the same to RGB version for plotting later\n",
    "input_image_RGB = img_RGB.reshape(img_dim, 3)\n",
    "input_image_RGB = input_image_RGB[input_image_RGB.sum(axis=(1)) != 0]/255\n",
    "\n",
    "# calculate GMM probabilities\n",
    "GMMOutput = calculateGMMProbabilities(input_image, clusters)\n",
    "\n",
    "\n",
    "print(\"Conducting image filtering and computations...\")\n",
    "# image erosion and dilation\n",
    "kernel = cv2.getStructuringElement(cv2.MORPH_RECT,(5,5))\n",
    "GMMOutput = np.float64(GMMOutput)\n",
    "GMMOutput = cv2.erode(GMMOutput, kernel, iterations = 10)\n",
    "GMMOutput = cv2.dilate(GMMOutput, kernel, iterations = 5)\n",
    "\n",
    "# replace image with binary (1,0) for white and black\n",
    "GMMOutput = np.where( GMMOutput > 0.99, 1, 0)\n",
    "\n",
    "# label image with skimage\n",
    "label_img = label(GMMOutput.reshape(img_RGB.shape[0], img_RGB.shape[1]), connectivity=2)\n",
    "\n",
    "# display results\n",
    "fig, ax = plt.subplots(figsize=(10, 6))\n",
    "ax.imshow(input_image_RGB.reshape(img_RGB.shape[0], img_RGB.shape[1], 3))\n",
    "for region in regionprops(label_img):\n",
    "    if region.area >= 1000:\n",
    "        bboxAspect = (region.bbox[2]-region.bbox[0])/(region.bbox[3]-region.bbox[1])\n",
    "        if (bboxAspect > 1.0325 and bboxAspect < 1.9528):\n",
    "            minr, minc, maxr, maxc = region.bbox\n",
    "            rect = mpatches.Rectangle((minc, minr), maxc - minc, maxr - minr, fill=False, edgecolor='green', linewidth=2)\n",
    "            ax.add_patch(rect)\n",
    "            ratio = 493.0884217183345\n",
    "            barrelDistance = str( round(ratio/ math.sqrt(region.area) , 2)) + 'm'\n",
    "            plt.annotate(barrelDistance, (region.centroid[1], region.centroid[0]), color='white')\n",
    "            plt.show()\n",
    "            print(\"Test Image Number: 005\" + \",  Centroid Row:  \" + str(region.centroid[1]) + \",  Centroid Column:  \" + str(region.centroid[0]) + \",  Distance: \" + str(barrelDistance))"
   ]
  },
  {
   "source": [
    "### Image 006"
   ],
   "cell_type": "markdown",
   "metadata": {}
  },
  {
   "cell_type": "code",
   "execution_count": 32,
   "metadata": {},
   "outputs": [
    {
     "output_type": "stream",
     "name": "stdout",
     "text": [
      "Calculating probabilities for file: 006.png...\n",
      "Conducting image filtering and computations...\n",
      "Test Image Number: 006,  Centroid Row:  157.71558878657413,  Centroid Column:  584.7173865302016,  Distance: 1.11m\n",
      "Test Image Number: 006,  Centroid Row:  42.933853459972866,  Centroid Column:  389.88297150610583,  Distance: 9.08m\n",
      "Test Image Number: 006,  Centroid Row:  632.1758436944938,  Centroid Column:  427.85168738898756,  Distance: 10.39m\n",
      "Test Image Number: 006,  Centroid Row:  483.98002365619664,  Centroid Column:  835.0775397555526,  Distance: 5.65m\n"
     ]
    }
   ],
   "source": [
    "print(\"Calculating probabilities for file: 006.png...\")\n",
    "# Reading images as RGB and HSV\n",
    "img_RGB = cv2.cvtColor( cv2.imread(\"Test_Set/006.png\", 1) , cv2.COLOR_BGR2RGB)\n",
    "img_HSV = cv2.cvtColor( cv2.imread(\"Test_Set/006.png\", 1) , cv2.COLOR_BGR2HSV)\n",
    "img_dim = img_RGB.shape[0]*img_RGB.shape[1]\n",
    "\n",
    "# make sure the input image is reshaped and normalized\n",
    "input_image = img_HSV.reshape(img_dim, 3)\n",
    "input_image = input_image[input_image.sum(axis=(1)) != 0]/255\n",
    "\n",
    "# do the same to RGB version for plotting later\n",
    "input_image_RGB = img_RGB.reshape(img_dim, 3)\n",
    "input_image_RGB = input_image_RGB[input_image_RGB.sum(axis=(1)) != 0]/255\n",
    "\n",
    "# calculate GMM probabilities\n",
    "GMMOutput = calculateGMMProbabilities(input_image, clusters)\n",
    "\n",
    "\n",
    "print(\"Conducting image filtering and computations...\")\n",
    "# image erosion and dilation\n",
    "kernel = cv2.getStructuringElement(cv2.MORPH_RECT,(5,5))\n",
    "GMMOutput = np.float64(GMMOutput)\n",
    "GMMOutput = cv2.erode(GMMOutput, kernel, iterations = 7)\n",
    "GMMOutput = cv2.dilate(GMMOutput, kernel, iterations = 7)\n",
    "\n",
    "# replace image with binary (1,0) for white and black\n",
    "GMMOutput = np.where( GMMOutput > 0.99, 1, 0)\n",
    "\n",
    "# label image with skimage\n",
    "label_img = label(GMMOutput.reshape(img_RGB.shape[0], img_RGB.shape[1]), connectivity=2)\n",
    "\n",
    "# display results\n",
    "fig, ax = plt.subplots(figsize=(10, 6))\n",
    "ax.imshow(input_image_RGB.reshape(img_RGB.shape[0], img_RGB.shape[1], 3))\n",
    "for region in regionprops(label_img):\n",
    "    if region.area >= 1200:\n",
    "        bboxAspect = (region.bbox[2]-region.bbox[0])/(region.bbox[3]-region.bbox[1])\n",
    "        if (bboxAspect > 1.0325 and bboxAspect < 1.9528):\n",
    "            minr, minc, maxr, maxc = region.bbox\n",
    "            rect = mpatches.Rectangle((minc, minr), maxc - minc, maxr - minr, fill=False, edgecolor='green', linewidth=2)\n",
    "            ax.add_patch(rect)\n",
    "            ratio = 493.0884217183345\n",
    "            barrelDistance = str( round(ratio/ math.sqrt(region.area) , 2)) + 'm'\n",
    "            plt.annotate(barrelDistance, (region.centroid[1], region.centroid[0]), color='white')\n",
    "            plt.show()\n",
    "            print(\"Test Image Number: 006\" + \",  Centroid Row:  \" + str(region.centroid[1]) + \",  Centroid Column:  \" + str(region.centroid[0]) + \",  Distance: \" + str(barrelDistance))"
   ]
  },
  {
   "source": [
    "### Image 007"
   ],
   "cell_type": "markdown",
   "metadata": {}
  },
  {
   "cell_type": "code",
   "execution_count": 33,
   "metadata": {},
   "outputs": [
    {
     "output_type": "stream",
     "name": "stdout",
     "text": [
      "Calculating probabilities for file: 007.png...\n",
      "Conducting image filtering and computations...\n",
      "Test Image Number: 007,  Centroid Row:  565.6879045307444,  Centroid Column:  629.3069377022654,  Distance: 2.86m\n"
     ]
    }
   ],
   "source": [
    "print(\"Calculating probabilities for file: 007.png...\")\n",
    "# Reading images as RGB and HSV\n",
    "img_RGB = cv2.cvtColor( cv2.imread(\"Test_Set/007.png\", 1) , cv2.COLOR_BGR2RGB)\n",
    "img_HSV = cv2.cvtColor( cv2.imread(\"Test_Set/007.png\", 1) , cv2.COLOR_BGR2HSV)\n",
    "img_dim = img_RGB.shape[0]*img_RGB.shape[1]\n",
    "\n",
    "# make sure the input image is reshaped and normalized\n",
    "input_image = img_HSV.reshape(img_dim, 3)\n",
    "input_image = input_image[input_image.sum(axis=(1)) != 0]/255\n",
    "\n",
    "# do the same to RGB version for plotting later\n",
    "input_image_RGB = img_RGB.reshape(img_dim, 3)\n",
    "input_image_RGB = input_image_RGB[input_image_RGB.sum(axis=(1)) != 0]/255\n",
    "\n",
    "# calculate GMM probabilities\n",
    "GMMOutput = calculateGMMProbabilities(input_image, clusters)\n",
    "\n",
    "\n",
    "print(\"Conducting image filtering and computations...\")\n",
    "# image erosion and dilation\n",
    "kernel = cv2.getStructuringElement(cv2.MORPH_RECT,(7,7))\n",
    "GMMOutput = np.float64(GMMOutput)\n",
    "GMMOutput = cv2.erode(GMMOutput, kernel, iterations = 1)\n",
    "GMMOutput = cv2.dilate(GMMOutput, kernel, iterations = 5)\n",
    "\n",
    "# replace image with binary (1,0) for white and black\n",
    "GMMOutput = np.where( GMMOutput > 0.99, 1, 0)\n",
    "\n",
    "# label image with skimage\n",
    "label_img = label(GMMOutput.reshape(img_RGB.shape[0], img_RGB.shape[1]), connectivity=2)\n",
    "\n",
    "# display results\n",
    "fig, ax = plt.subplots(figsize=(10, 6))\n",
    "ax.imshow(input_image_RGB.reshape(img_RGB.shape[0], img_RGB.shape[1], 3))\n",
    "for region in regionprops(label_img):\n",
    "    if region.area >= 1200:\n",
    "        bboxAspect = (region.bbox[2]-region.bbox[0])/(region.bbox[3]-region.bbox[1])\n",
    "        if (bboxAspect > 1.0325 and bboxAspect < 1.9528):\n",
    "            minr, minc, maxr, maxc = region.bbox\n",
    "            rect = mpatches.Rectangle((minc, minr), maxc - minc, maxr - minr, fill=False, edgecolor='green', linewidth=2)\n",
    "            ax.add_patch(rect)\n",
    "            ratio = 493.0884217183345\n",
    "            barrelDistance = str( round(ratio/ math.sqrt(region.area) , 2)) + 'm'\n",
    "            plt.annotate(barrelDistance, (region.centroid[1], region.centroid[0]), color='white')\n",
    "            plt.show()\n",
    "            print(\"Test Image Number: 007\" + \",  Centroid Row:  \" + str(region.centroid[1]) + \",  Centroid Column:  \" + str(region.centroid[0]) + \",  Distance: \" + str(barrelDistance))"
   ]
  },
  {
   "source": [
    "### Image 008"
   ],
   "cell_type": "markdown",
   "metadata": {}
  },
  {
   "cell_type": "code",
   "execution_count": 36,
   "metadata": {},
   "outputs": [
    {
     "output_type": "stream",
     "name": "stdout",
     "text": [
      "Calculating probabilities for file: 008.png...\n",
      "Conducting image filtering and computations...\n",
      "Test Image Number: 008,  Centroid Row:  737.3641777370591,  Centroid Column:  478.0746678882272,  Distance: 10.55m\n"
     ]
    }
   ],
   "source": [
    "print(\"Calculating probabilities for file: 008.png...\")\n",
    "# Reading images as RGB and HSV\n",
    "img_RGB = cv2.cvtColor( cv2.imread(\"Test_Set/008.png\", 1) , cv2.COLOR_BGR2RGB)\n",
    "img_HSV = cv2.cvtColor( cv2.imread(\"Test_Set/008.png\", 1) , cv2.COLOR_BGR2HSV)\n",
    "img_dim = img_RGB.shape[0]*img_RGB.shape[1]\n",
    "\n",
    "# make sure the input image is reshaped and normalized\n",
    "input_image = img_HSV.reshape(img_dim, 3)\n",
    "input_image = input_image[input_image.sum(axis=(1)) != 0]/255\n",
    "\n",
    "# do the same to RGB version for plotting later\n",
    "input_image_RGB = img_RGB.reshape(img_dim, 3)\n",
    "input_image_RGB = input_image_RGB[input_image_RGB.sum(axis=(1)) != 0]/255\n",
    "\n",
    "# calculate GMM probabilities\n",
    "GMMOutput = calculateGMMProbabilities(input_image, clusters)\n",
    "\n",
    "\n",
    "print(\"Conducting image filtering and computations...\")\n",
    "# image erosion and dilation\n",
    "kernel = cv2.getStructuringElement(cv2.MORPH_RECT,(7,7))\n",
    "GMMOutput = np.float64(GMMOutput)\n",
    "GMMOutput = cv2.erode(GMMOutput, kernel, iterations = 2)\n",
    "GMMOutput = cv2.dilate(GMMOutput, kernel, iterations = 3)\n",
    "\n",
    "# replace image with binary (1,0) for white and black\n",
    "GMMOutput = np.where( GMMOutput > 0.99, 1, 0)\n",
    "\n",
    "# label image with skimage\n",
    "label_img = label(GMMOutput.reshape(img_RGB.shape[0], img_RGB.shape[1]), connectivity=2)\n",
    "\n",
    "# display results\n",
    "fig, ax = plt.subplots(figsize=(10, 6))\n",
    "ax.imshow(input_image_RGB.reshape(img_RGB.shape[0], img_RGB.shape[1], 3))\n",
    "for region in regionprops(label_img):\n",
    "    if region.area >= 1200:\n",
    "        bboxAspect = (region.bbox[2]-region.bbox[0])/(region.bbox[3]-region.bbox[1])\n",
    "        if (bboxAspect > 1.0325 and bboxAspect < 1.9528):\n",
    "            minr, minc, maxr, maxc = region.bbox\n",
    "            rect = mpatches.Rectangle((minc, minr), maxc - minc, maxr - minr, fill=False, edgecolor='green', linewidth=2)\n",
    "            ax.add_patch(rect)\n",
    "            ratio = 493.0884217183345\n",
    "            barrelDistance = str( round(ratio/ math.sqrt(region.area) , 2)) + 'm'\n",
    "            plt.annotate(barrelDistance, (region.centroid[1], region.centroid[0]), color='white')\n",
    "            plt.show()\n",
    "            print(\"Test Image Number: 008\" + \",  Centroid Row:  \" + str(region.centroid[1]) + \",  Centroid Column:  \" + str(region.centroid[0]) + \",  Distance: \" + str(barrelDistance))"
   ]
  },
  {
   "source": [
    "### Image 009"
   ],
   "cell_type": "markdown",
   "metadata": {}
  },
  {
   "cell_type": "code",
   "execution_count": 37,
   "metadata": {},
   "outputs": [
    {
     "output_type": "stream",
     "name": "stdout",
     "text": [
      "Calculating probabilities for file: 009.png...\n",
      "Conducting image filtering and computations...\n",
      "Test Image Number: 009,  Centroid Row:  673.2035590277778,  Centroid Column:  428.07769097222223,  Distance: 10.27m\n"
     ]
    }
   ],
   "source": [
    "print(\"Calculating probabilities for file: 009.png...\")\n",
    "# Reading images as RGB and HSV\n",
    "img_RGB = cv2.cvtColor( cv2.imread(\"Test_Set/009.png\", 1) , cv2.COLOR_BGR2RGB)\n",
    "img_HSV = cv2.cvtColor( cv2.imread(\"Test_Set/009.png\", 1) , cv2.COLOR_BGR2HSV)\n",
    "img_dim = img_RGB.shape[0]*img_RGB.shape[1]\n",
    "\n",
    "# make sure the input image is reshaped and normalized\n",
    "input_image = img_HSV.reshape(img_dim, 3)\n",
    "input_image = input_image[input_image.sum(axis=(1)) != 0]/255\n",
    "\n",
    "# do the same to RGB version for plotting later\n",
    "input_image_RGB = img_RGB.reshape(img_dim, 3)\n",
    "input_image_RGB = input_image_RGB[input_image_RGB.sum(axis=(1)) != 0]/255\n",
    "\n",
    "# calculate GMM probabilities\n",
    "GMMOutput = calculateGMMProbabilities(input_image, clusters)\n",
    "\n",
    "\n",
    "print(\"Conducting image filtering and computations...\")\n",
    "# image erosion and dilation\n",
    "kernel = cv2.getStructuringElement(cv2.MORPH_RECT,(7,7))\n",
    "GMMOutput = np.float64(GMMOutput)\n",
    "GMMOutput = cv2.erode(GMMOutput, kernel, iterations = 2)\n",
    "GMMOutput = cv2.dilate(GMMOutput, kernel, iterations = 3)\n",
    "\n",
    "# replace image with binary (1,0) for white and black\n",
    "GMMOutput = np.where( GMMOutput > 0.99, 1, 0)\n",
    "\n",
    "# label image with skimage\n",
    "label_img = label(GMMOutput.reshape(img_RGB.shape[0], img_RGB.shape[1]), connectivity=2)\n",
    "\n",
    "# display results\n",
    "fig, ax = plt.subplots(figsize=(10, 6))\n",
    "ax.imshow(input_image_RGB.reshape(img_RGB.shape[0], img_RGB.shape[1], 3))\n",
    "for region in regionprops(label_img):\n",
    "    if region.area >= 1200:\n",
    "        bboxAspect = (region.bbox[2]-region.bbox[0])/(region.bbox[3]-region.bbox[1])\n",
    "        if (bboxAspect > 1.0325 and bboxAspect < 1.9528):\n",
    "            minr, minc, maxr, maxc = region.bbox\n",
    "            rect = mpatches.Rectangle((minc, minr), maxc - minc, maxr - minr, fill=False, edgecolor='green', linewidth=2)\n",
    "            ax.add_patch(rect)\n",
    "            ratio = 493.0884217183345\n",
    "            barrelDistance = str( round(ratio/ math.sqrt(region.area) , 2)) + 'm'\n",
    "            plt.annotate(barrelDistance, (region.centroid[1], region.centroid[0]), color='white')\n",
    "            plt.show()\n",
    "            print(\"Test Image Number: 009\" + \",  Centroid Row:  \" + str(region.centroid[1]) + \",  Centroid Column:  \" + str(region.centroid[0]) + \",  Distance: \" + str(barrelDistance))"
   ]
  },
  {
   "source": [
    "### Image 010"
   ],
   "cell_type": "markdown",
   "metadata": {}
  },
  {
   "cell_type": "code",
   "execution_count": 42,
   "metadata": {},
   "outputs": [
    {
     "output_type": "stream",
     "name": "stdout",
     "text": [
      "Calculating probabilities for file: 010.png...\n",
      "Conducting image filtering and computations...\n",
      "Test Image Number: 010,  Centroid Row:  1034.539039039039,  Centroid Column:  273.70007507507506,  Distance: 9.55m\n",
      "Test Image Number: 010,  Centroid Row:  664.2349540078843,  Centroid Column:  396.9540078843627,  Distance: 7.99m\n"
     ]
    }
   ],
   "source": [
    "print(\"Calculating probabilities for file: 010.png...\")\n",
    "# Reading images as RGB and HSV\n",
    "img_RGB = cv2.cvtColor( cv2.imread(\"Test_Set/010.png\", 1) , cv2.COLOR_BGR2RGB)\n",
    "img_HSV = cv2.cvtColor( cv2.imread(\"Test_Set/010.png\", 1) , cv2.COLOR_BGR2HSV)\n",
    "img_dim = img_RGB.shape[0]*img_RGB.shape[1]\n",
    "\n",
    "# make sure the input image is reshaped and normalized\n",
    "input_image = img_HSV.reshape(img_dim, 3)\n",
    "input_image = input_image[input_image.sum(axis=(1)) != 0]/255\n",
    "\n",
    "# do the same to RGB version for plotting later\n",
    "input_image_RGB = img_RGB.reshape(img_dim, 3)\n",
    "input_image_RGB = input_image_RGB[input_image_RGB.sum(axis=(1)) != 0]/255\n",
    "\n",
    "# calculate GMM probabilities\n",
    "GMMOutput = calculateGMMProbabilities(input_image, clusters)\n",
    "\n",
    "\n",
    "print(\"Conducting image filtering and computations...\")\n",
    "# image erosion and dilation\n",
    "kernel = cv2.getStructuringElement(cv2.MORPH_RECT,(5,5))\n",
    "GMMOutput = np.float64(GMMOutput)\n",
    "GMMOutput = cv2.erode(GMMOutput, kernel, iterations = 6)\n",
    "GMMOutput = cv2.dilate(GMMOutput, kernel, iterations = 3)\n",
    "\n",
    "# replace image with binary (1,0) for white and black\n",
    "GMMOutput = np.where( GMMOutput > 0.99, 1, 0)\n",
    "\n",
    "# label image with skimage\n",
    "label_img = label(GMMOutput.reshape(img_RGB.shape[0], img_RGB.shape[1]), connectivity=2)\n",
    "\n",
    "# display results\n",
    "fig, ax = plt.subplots(figsize=(10, 6))\n",
    "ax.imshow(input_image_RGB.reshape(img_RGB.shape[0], img_RGB.shape[1], 3))\n",
    "for region in regionprops(label_img):\n",
    "    if region.area >= 1200:\n",
    "        bboxAspect = (region.bbox[2]-region.bbox[0])/(region.bbox[3]-region.bbox[1])\n",
    "        if (bboxAspect > 1.0325 and bboxAspect < 1.9528):\n",
    "            minr, minc, maxr, maxc = region.bbox\n",
    "            rect = mpatches.Rectangle((minc, minr), maxc - minc, maxr - minr, fill=False, edgecolor='green', linewidth=2)\n",
    "            ax.add_patch(rect)\n",
    "            ratio = 493.0884217183345\n",
    "            barrelDistance = str( round(ratio/ math.sqrt(region.area) , 2)) + 'm'\n",
    "            plt.annotate(barrelDistance, (region.centroid[1], region.centroid[0]), color='white')\n",
    "            plt.show()\n",
    "            print(\"Test Image Number: 010\" + \",  Centroid Row:  \" + str(region.centroid[1]) + \",  Centroid Column:  \" + str(region.centroid[0]) + \",  Distance: \" + str(barrelDistance))"
   ]
  },
  {
   "cell_type": "code",
   "execution_count": null,
   "metadata": {},
   "outputs": [],
   "source": []
  }
 ]
}